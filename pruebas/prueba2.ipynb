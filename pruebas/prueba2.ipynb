{
 "cells": [
  {
   "cell_type": "code",
   "execution_count": 101,
   "metadata": {},
   "outputs": [],
   "source": [
    "# Importanmos las librerias\n",
    "import random\n",
    "import matplotlib.pyplot as plt\n",
    "import numpy as np\n",
    "import math"
   ]
  },
  {
   "cell_type": "code",
   "execution_count": 102,
   "metadata": {},
   "outputs": [],
   "source": [
    "def arriba_abajo(numerosAleatorios):\n",
    "    co=0\n",
    "    n0=0\n",
    "    n1=0\n",
    "    n=len(numerosAleatorios)\n",
    "    aux=0\n",
    "    unos_ceros=[]\n",
    "    aux2=0\n",
    "    for numero in numerosAleatorios:\n",
    "        if numero >=0.5:\n",
    "            aux2=1\n",
    "            n1+=1\n",
    "        else:\n",
    "            aux2=0\n",
    "            n0+=1\n",
    "        unos_ceros.append(aux2) \n",
    "    \n",
    "    for num in unos_ceros:\n",
    "        if aux != num:\n",
    "            co+=1\n",
    "            aux=num\n",
    "    \n",
    "    uc=((2*n0*n1)/n)+(1/2)\n",
    "    oc=(((2*n0*n1)*((2*n0*n1)-n))/((n**2)*(n-1)))\n",
    "    z0=(co-uc)/oc\n",
    "    z0=round(z0,4)\n",
    "\n",
    "    plt.figure()\n",
    "\n",
    "    etiquetas = ['0', '1']\n",
    "    plt.pie([n0, n1], labels=etiquetas, autopct='%.2f %%')\n",
    "    plt.title('Cantidad de ceros y unos')\n",
    "    plt.show()\n",
    "\n",
    "    if z0>= -1.96 and z0<=1.96:\n",
    "        print(\"c0: \",co)\n",
    "        print(\"Zo: \", z0,\"si cae dentro del intervalo de 1.96\")  \n",
    "    else:\n",
    "        print(\"c0: \",co)\n",
    "        print(\"Zo: \", z0,\"no cae dentro del intervalo de 1.96\")  "
   ]
  },
  {
   "cell_type": "markdown",
   "metadata": {},
   "source": [
    "Realice un programa que permita validara la independencia de datos y generar una grafica de pie\n",
    "que represente el total de 0 y 1 generados, además del numero de corridas generados por los\n",
    "métodos de cuadrados medios, productos medios y random para validar la Hipótesis.\n",
    "Emplee el siguiente nivel de significancia α=0.05\n",
    "100 numeros generados\n",
    "#### Las semillas para generar los números son las siguientes:"
   ]
  },
  {
   "cell_type": "markdown",
   "metadata": {},
   "source": [
    "* Cuadrados medios: Xo=74731897457, D=7"
   ]
  },
  {
   "cell_type": "code",
   "execution_count": 103,
   "metadata": {},
   "outputs": [
    {
     "data": {
      "image/png": "[encoded data removed]",
      "text/plain": [
       "<Figure size 432x288 with 1 Axes>"
      ]
     },
     "metadata": {},
     "output_type": "display_data"
    },
    {
     "name": "stdout",
     "output_type": "stream",
     "text": [
      "c0:  48\n",
      "Zo:  -0.038 si cae dentro del intervalo de 1.96\n"
     ]
    }
   ],
   "source": [
    "def cuadradosMedios(xo, digitos):\n",
    "    iteraciones = 100\n",
    "    xn = xo\n",
    "    aleatorios=[]\n",
    "    # print(\"It. \\t Xn \\t Ui \\t Rn\")\n",
    "    for i in range(iteraciones):\n",
    "        xnn = xn**2\n",
    "        txnn = str(xnn).zfill(8)\n",
    "        tam = len(txnn)\n",
    "        ui = int(txnn[int(tam/2-digitos/2):int(tam/2+digitos/2)])\n",
    "        rn = ui / (int('9'*digitos)+1)\n",
    "        aleatorios.append(rn)\n",
    "        # print(str(i) + \"\\t\" + str(xn) + \"\\t\"+ str(ui)+\"\\t\"+str(rn))\n",
    "        xn = ui\n",
    "    return(aleatorios)\n",
    "\n",
    "arriba_abajo(cuadradosMedios(74731897457, 7))"
   ]
  },
  {
   "cell_type": "markdown",
   "metadata": {},
   "source": [
    "* Congruencia lineal: a=74731897457, b=37747318974, Xo=7, M=19"
   ]
  },
  {
   "cell_type": "code",
   "execution_count": 104,
   "metadata": {},
   "outputs": [
    {
     "name": "stdout",
     "output_type": "stream",
     "text": [
      "It. \t Xn \t Ui\n"
     ]
    },
    {
     "data": {
      "image/png": "[encoded data removed]",
      "text/plain": [
       "<Figure size 432x288 with 1 Axes>"
      ]
     },
     "metadata": {},
     "output_type": "display_data"
    },
    {
     "name": "stdout",
     "output_type": "stream",
     "text": [
      "c0:  45\n",
      "Zo:  -0.1989 si cae dentro del intervalo de 1.96\n"
     ]
    }
   ],
   "source": [
    "def congruencia_lineal(a,b,xo,m):\n",
    "    iteraciones = 100\n",
    "    xn = xo\n",
    "    print(\"It. \\t Xn \\t Ui\")\n",
    "    aleatorios=[]\n",
    "    for i in range(iteraciones):\n",
    "        xnn = (a*xn+b) % m\n",
    "        ui = xnn/m\n",
    "        # print(str(i) + \"\\t\"+ str(xnn)+\"\\t\"+str(ui))\n",
    "        aleatorios.append(ui)\n",
    "        xn = xnn\n",
    "    return aleatorios\n",
    "\n",
    "arriba_abajo(congruencia_lineal(74731897457,37747318974,7,19))"
   ]
  },
  {
   "cell_type": "markdown",
   "metadata": {},
   "source": [
    "* Random de Python semilla (01032022)"
   ]
  },
  {
   "cell_type": "code",
   "execution_count": 109,
   "metadata": {},
   "outputs": [
    {
     "data": {
      "image/png": "[encoded data removed]",
      "text/plain": [
       "<Figure size 432x288 with 1 Axes>"
      ]
     },
     "metadata": {},
     "output_type": "display_data"
    },
    {
     "name": "stdout",
     "output_type": "stream",
     "text": [
      "c0:  46\n",
      "Zo:  -0.148 si cae dentro del intervalo de 1.96\n"
     ]
    }
   ],
   "source": [
    "def random_python(semilla):\n",
    "    N=100\n",
    "    numeros = []\n",
    "    random.seed(semilla)\n",
    "    [numeros.append(random.random())for i in range(N)]\n",
    "    return numeros\n",
    "\n",
    "arriba_abajo(random_python(1032022))"
   ]
  },
  {
   "cell_type": "markdown",
   "metadata": {},
   "source": [
    "* Tauswoth q=15, r=7, l=7"
   ]
  },
  {
   "cell_type": "code",
   "execution_count": 106,
   "metadata": {},
   "outputs": [
    {
     "data": {
      "image/png": "[encoded data removed]",
      "text/plain": [
       "<Figure size 432x288 with 1 Axes>"
      ]
     },
     "metadata": {},
     "output_type": "display_data"
    },
    {
     "name": "stdout",
     "output_type": "stream",
     "text": [
      "c0:  48\n",
      "Zo:  -0.052 si cae dentro del intervalo de 1.96\n"
     ]
    }
   ],
   "source": [
    "def tausworth(q,h,l):\n",
    "    import pandas as pd\n",
    "\n",
    "    nBits=100*l\n",
    "\n",
    "    generador=[]\n",
    "    conversion=[]\n",
    "    conversion2=[]\n",
    "    result=0\n",
    "\n",
    "    vector_l=list(range(l))\n",
    "    vector_l.reverse()\n",
    "\n",
    "    if h<q:\n",
    "        for i in range(1,len(list(range(1,nBits+1)))+1):\n",
    "            if i<=q:\n",
    "                generador.append(1)\n",
    "            else:\n",
    "                aux1=i-(h+1)\n",
    "                aux2=i-(q+1)\n",
    "                generador.append((generador[aux1]+generador[aux2])%2)\n",
    "\n",
    "        for i in range(l,len(generador)+1,l):\n",
    "            fragmento=generador[i-l:i]\n",
    "            for j in range(len(fragmento)):\n",
    "                result+=fragmento[j]*2**vector_l[j]\n",
    "            conversion.append(result)\n",
    "            conversion2.append(result/(2**l))\n",
    "            result=0\n",
    "        \n",
    "\n",
    "        df = pd.DataFrame(generador,index=list(range(1,nBits+1)))\n",
    "\n",
    "        # print(df)\n",
    "        # print(conversion)\n",
    "        # print(conversion2)\n",
    "        return conversion2\n",
    "\n",
    "    else:\n",
    "        print(\"el valor de h tiene que ser menor a q\")\n",
    "\n",
    "arriba_abajo(tausworth(15,7,7))"
   ]
  }
 ],
 "metadata": {
  "interpreter": {
   "hash": "5fde5a1c66613c5e0d12d14d43a0c63d70f9e603c0cd7171028d36a8b31bd032"
  },
  "kernelspec": {
   "display_name": "Python 3.9.7 ('base')",
   "language": "python",
   "name": "python3"
  },
  "language_info": {
   "codemirror_mode": {
    "name": "ipython",
    "version": 3
   },
   "file_extension": ".py",
   "mimetype": "text/x-python",
   "name": "python",
   "nbconvert_exporter": "python",
   "pygments_lexer": "ipython3",
   "version": "3.9.7"
  },
  "orig_nbformat": 4
 },
 "nbformat": 4,
 "nbformat_minor": 2
}

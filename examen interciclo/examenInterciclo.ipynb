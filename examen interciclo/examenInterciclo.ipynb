{
 "cells": [
  {
   "cell_type": "code",
   "execution_count": 376,
   "metadata": {},
   "outputs": [],
   "source": [
    "# Importanmos las librerias\n",
    "import random\n",
    "import matplotlib.pyplot as plt\n",
    "import numpy as np\n",
    "import math"
   ]
  },
  {
   "cell_type": "code",
   "execution_count": 377,
   "metadata": {},
   "outputs": [],
   "source": [
    "def poker(numerosAleatorios):\n",
    "    numeros={}\n",
    "    repetidos={}\n",
    "    contador=0\n",
    "    b=[]\n",
    "    categorias={'todos diferentes':0,'Par':0,'2 pares':0,'Tercia y par':0,'tercia':0,'Poker':0,'quintilla':0}\n",
    "    for n in numerosAleatorios: \n",
    "        naux=n.split(\".\")[1]\n",
    "        naux=naux[:5]\n",
    "        b.append(naux)\n",
    "        for nn in naux:\n",
    "            if nn in repetidos: \n",
    "                if repetidos[nn] == 1: \n",
    "                    contador += 1 \n",
    "                repetidos[nn] += 1 \n",
    "            else:\n",
    "                repetidos[nn] = 1 \n",
    "        numeros[n]=repetidos\n",
    "\n",
    "        a=0\n",
    "        \n",
    "        valoresRep=list(repetidos.values())\n",
    "\n",
    "        if (2 in valoresRep) and (3 in valoresRep):\n",
    "            categorias['Tercia y par']+=1\n",
    "        elif 2 in valoresRep:\n",
    "            # print(repetidos)\n",
    "            for rep in valoresRep:\n",
    "                if rep==2:\n",
    "                    a+=1\n",
    "            if a == 1:\n",
    "                categorias['Par']+=1\n",
    "            if a == 2:\n",
    "                categorias['2 pares']+=1\n",
    "        elif 3 in valoresRep:\n",
    "            categorias['tercia']+=1\n",
    "        elif 4 in valoresRep:\n",
    "            categorias['Poker']+=1\n",
    "        elif 5 in valoresRep:\n",
    "            categorias['quintilla']+=1\n",
    "        else:\n",
    "            categorias['todos diferentes']+=1\n",
    "\n",
    "        repetidos={}\n",
    "    \n",
    "    listita=list(categorias.values())\n",
    "    sumaRepetidos=sum(listita)\n",
    "    print(b)\n",
    "    print(categorias)\n",
    "    uno=(((0.3024*sumaRepetidos)-categorias['todos diferentes']))**2/(0.3024*sumaRepetidos)\n",
    "    dos=(((0.5040*sumaRepetidos)-categorias['Par']))**2/(0.5040*sumaRepetidos)\n",
    "    tres=(((0.1080*sumaRepetidos)-categorias['2 pares']))**2/(0.1080*sumaRepetidos)\n",
    "    cuatro=(((0.0090*sumaRepetidos)-categorias['Tercia y par']))**2/(0.0090*sumaRepetidos)\n",
    "    cinco=(((0.0720*sumaRepetidos)-categorias['tercia']))**2/(0.0720*sumaRepetidos)\n",
    "    seis=(((0.0045*sumaRepetidos)-categorias['Poker']))**2/(0.0045*sumaRepetidos)\n",
    "    siete=(((0.0001*sumaRepetidos)-categorias['quintilla']))**2/(0.0001*sumaRepetidos)\n",
    "    listaProbabilidad=[uno,dos,tres, cuatro, cinco, seis, siete]\n",
    "    sumita=sum(listaProbabilidad)\n",
    "    # print(numerosAleatorios)\n",
    "    return sumita\n",
    "        "
   ]
  },
  {
   "cell_type": "markdown",
   "metadata": {},
   "source": [
    "* Cuadrados medios: Xo=74731897457, D=7"
   ]
  },
  {
   "cell_type": "code",
   "execution_count": 378,
   "metadata": {},
   "outputs": [
    {
     "name": "stdout",
     "output_type": "stream",
     "text": [
      "['49752', '52963', '51111', '23813', '07944', '12032', '77792', '17166', '67842', '25695', '24741', '13786', '06372', '60493', '94369', '55553', '61858', '64195', '11084', '86414', '74658', '38318', '83419', '87779', '52300', '53799', '43926', '95426', '62607', '97591', '41184', '61531', '61316', '97070', '26625', '92044', '21955', '02290', '45565', '62330', '50488', '90835', '11480', '79292', '73100', '37138', '92325', '39591', '75050', '26285', '94538', '75185', '28263', '81299', '96298', '33779', '10816', '99537', '76979', '58896', '87482', '31685', '39772', '18493', '01656', '45582', '77843', '96291', '20991', '66070', '53136', '34483', '90848', '34953', '17653', '64182', '93984', '30674', '92065', '60710', '57283', '14383', '87788', '67417', '50815', '22170', '54082', '49200', '06901', '63539', '72718', '80122', '95957', '78917', '78992', '97392', '52464', '25384', '37284', '00981']\n",
      "{'todos diferentes': 23, 'Par': 57, '2 pares': 14, 'Tercia y par': 1, 'tercia': 3, 'Poker': 2, 'quintilla': 0}\n"
     ]
    },
    {
     "data": {
      "text/plain": [
       "11.355820105820106"
      ]
     },
     "execution_count": 378,
     "metadata": {},
     "output_type": "execute_result"
    }
   ],
   "source": [
    "def cuadradosMedios(xo, digitos):\n",
    "    iteraciones = 100\n",
    "    xn = xo\n",
    "    aleatorios=[]\n",
    "    # print(\"It. \\t Xn \\t Ui \\t Rn\")\n",
    "    for i in range(iteraciones):\n",
    "        xnn = xn**2\n",
    "        txnn = str(xnn).zfill(8)\n",
    "        tam = len(txnn)\n",
    "        ui = int(txnn[int(tam/2-digitos/2):int(tam/2+digitos/2)])\n",
    "        rn = ui / (int('9'*digitos)+1)\n",
    "        # rn = float(\"%.*f\" % (5, rn))\n",
    "        rn=str(rn)\n",
    "        # while True:\n",
    "        #     longitud=len(rn)-2\n",
    "        #     if longitud < 5:\n",
    "        #         rn+=\"0\"\n",
    "        #     else:\n",
    "        #         break\n",
    "        aleatorios.append(rn)\n",
    "        # print(str(i) + \"\\t\" + str(xn) + \"\\t\"+ str(ui)+\"\\t\"+str(rn))\n",
    "        xn = ui\n",
    "    return(aleatorios)\n",
    "\n",
    "poker(cuadradosMedios(74731897457, 7))"
   ]
  },
  {
   "cell_type": "markdown",
   "metadata": {},
   "source": [
    "* Congruencia lineal: a=74731897457, b=37747318974, Xo=7, M=19"
   ]
  },
  {
   "cell_type": "code",
   "execution_count": 379,
   "metadata": {},
   "outputs": [
    {
     "name": "stdout",
     "output_type": "stream",
     "text": [
      "It. \t Xn \t Ui\n",
      "['89473', '84210', '94736', '73684', '15789', '31578', '0', '63157', '36842', '89473', '84210', '94736', '73684', '15789', '31578', '0', '63157', '36842', '89473', '84210', '94736', '73684', '15789', '31578', '0', '63157', '36842', '89473', '84210', '94736', '73684', '15789', '31578', '0', '63157', '36842', '89473', '84210', '94736', '73684', '15789', '31578', '0', '63157', '36842', '89473', '84210', '94736', '73684', '15789', '31578', '0', '63157', '36842', '89473', '84210', '94736', '73684', '15789', '31578', '0', '63157', '36842', '89473', '84210', '94736', '73684', '15789', '31578', '0', '63157', '36842', '89473', '84210', '94736', '73684', '15789', '31578', '0', '63157', '36842', '89473', '84210', '94736', '73684', '15789', '31578', '0', '63157', '36842', '89473', '84210', '94736', '73684', '15789', '31578', '0', '63157', '36842', '89473']\n",
      "{'todos diferentes': 100, 'Par': 0, '2 pares': 0, 'Tercia y par': 0, 'tercia': 0, 'Poker': 0, 'quintilla': 0}\n"
     ]
    },
    {
     "data": {
      "text/plain": [
       "230.68783068783063"
      ]
     },
     "execution_count": 379,
     "metadata": {},
     "output_type": "execute_result"
    }
   ],
   "source": [
    "def congruencia_lineal(a,b,xo,m):\n",
    "    iteraciones = 100\n",
    "    xn = xo\n",
    "    print(\"It. \\t Xn \\t Ui\")\n",
    "    aleatorios=[]\n",
    "    for i in range(iteraciones):\n",
    "        xnn = (a*xn+b) % m\n",
    "        ui = xnn/m\n",
    "        # print(str(i) + \"\\t\"+ str(xnn)+\"\\t\"+str(ui))\n",
    "        # ui=float(\"%.*f\" % (5, ui))\n",
    "        ui=str(ui)\n",
    "        # while True:\n",
    "        #     longitud=len(ui)-2\n",
    "        #     if longitud < 5:\n",
    "        #         ui+=\"0\"\n",
    "        #     else:\n",
    "        #         break\n",
    "        aleatorios.append(ui)\n",
    "        xn = xnn\n",
    "    return aleatorios\n",
    "\n",
    "poker(congruencia_lineal(74731897457,37747318974,7,19))"
   ]
  },
  {
   "cell_type": "markdown",
   "metadata": {},
   "source": [
    "* Random de Python semilla (01032022)"
   ]
  },
  {
   "cell_type": "code",
   "execution_count": 380,
   "metadata": {},
   "outputs": [
    {
     "name": "stdout",
     "output_type": "stream",
     "text": [
      "['60096', '75448', '12043', '22381', '35544', '36493', '17405', '32250', '07365', '22328', '56576', '47192', '42029', '37108', '10650', '38331', '70498', '13690', '57169', '97893', '23678', '00672', '51390', '64386', '67770', '18065', '26003', '99901', '78192', '65281', '41158', '35032', '63215', '24128', '15876', '06886', '22031', '06359', '63595', '59540', '67986', '24934', '97015', '51759', '01464', '62785', '60439', '57345', '09193', '38857', '39098', '94565', '13011', '65062', '74547', '83429', '28925', '99047', '52202', '45849', '09767', '37267', '71644', '15920', '09577', '54991', '90418', '68507', '20019', '80839', '31619', '42123', '57313', '67765', '25347', '04977', '06577', '13836', '57308', '12501', '24218', '36667', '73774', '20541', '26456', '14637', '49109', '51830', '33457', '74858', '79547', '29900', '49724', '82045', '41788', '02400', '62875', '83702', '65463', '04217']\n",
      "{'todos diferentes': 32, 'Par': 52, '2 pares': 7, 'Tercia y par': 0, 'tercia': 9, 'Poker': 0, 'quintilla': 0}\n"
     ]
    },
    {
     "data": {
      "text/plain": [
       "3.3002645502645507"
      ]
     },
     "execution_count": 380,
     "metadata": {},
     "output_type": "execute_result"
    }
   ],
   "source": [
    "def random_python(semilla):\n",
    "    N=100\n",
    "    numeros = []\n",
    "    random.seed(semilla)\n",
    "    for i in range(N):\n",
    "        nrand=random.random()\n",
    "        # nrand=float(\"%.*f\" % (5, nrand))\n",
    "        nrand=str(nrand)\n",
    "        # while True:\n",
    "        #     longitud=len(nrand)-2\n",
    "        #     if longitud < 5:\n",
    "        #         nrand+=\"0\"\n",
    "        #     else:\n",
    "        #         break\n",
    "        numeros.append(nrand)\n",
    "    return numeros\n",
    "\n",
    "poker(random_python(1032022))"
   ]
  },
  {
   "cell_type": "markdown",
   "metadata": {},
   "source": [
    "* Tauswoth q=15, r=7, l=7"
   ]
  },
  {
   "cell_type": "code",
   "execution_count": 381,
   "metadata": {},
   "outputs": [
    {
     "name": "stdout",
     "output_type": "stream",
     "text": [
      "['99218', '99218', '5', '49218', '74218', '5', '36718', '61718', '6875', '49218', '64843', '59375', '28906', '52343', '63281', '375', '6875', '0', '34375', '34375', '45312', '34375', '38281', '30468', '49218', '84375', '39843', '53906', '71875', '48437', '625', '61718', '80468', '5', '39843', '64843', '57812', '27343', '54687', '67968', '40625', '24218', '53906', '57812', '3125', '60156', '69531', '99218', '14843', '84375', '28906', '64843', '50781', '3125', '5625', '21875', '4375', '42187', '32812', '38281', '28125', '46875', '85937', '875', '55468', '99218', '71875', '27343', '60156', '71875', '45312', '65625', '57031', '77343', '55468', '42187', '66406', '10937', '28125', '77343', '88281', '5', '4375', '6875', '53125', '8125', '57812', '98437', '71093', '78125', '57031', '46093', '24218', '51562', '10156', '84375', '82812', '21875', '32031', '30468']\n",
      "{'todos diferentes': 53, 'Par': 41, '2 pares': 4, 'Tercia y par': 0, 'tercia': 2, 'Poker': 0, 'quintilla': 0}\n"
     ]
    },
    {
     "data": {
      "text/plain": [
       "28.28042328042328"
      ]
     },
     "execution_count": 381,
     "metadata": {},
     "output_type": "execute_result"
    }
   ],
   "source": [
    "def tausworth(q,h,l):\n",
    "    import pandas as pd\n",
    "\n",
    "    nBits=100*l\n",
    "\n",
    "    generador=[]\n",
    "    conversion=[]\n",
    "    conversion2=[]\n",
    "    result=0\n",
    "\n",
    "    vector_l=list(range(l))\n",
    "    vector_l.reverse()\n",
    "\n",
    "    if h<q:\n",
    "        for i in range(1,len(list(range(1,nBits+1)))+1):\n",
    "            if i<=q:\n",
    "                generador.append(1)\n",
    "            else:\n",
    "                aux1=i-(h+1)\n",
    "                aux2=i-(q+1)\n",
    "                generador.append((generador[aux1]+generador[aux2])%2)\n",
    "\n",
    "        for i in range(l,len(generador)+1,l):\n",
    "            fragmento=generador[i-l:i]\n",
    "            for j in range(len(fragmento)):\n",
    "                result+=fragmento[j]*2**vector_l[j]\n",
    "            conversion.append(result)\n",
    "            au=result/(2**l)\n",
    "            # x=float(\"%.*f\" % (5, au))\n",
    "            x=str(au)\n",
    "            # while True:\n",
    "            #     longitud=len(x)-2\n",
    "            #     if longitud < 5:\n",
    "            #         x+=\"0\"\n",
    "            #     else:\n",
    "            #         break\n",
    "            conversion2.append(x)\n",
    "            result=0\n",
    "        \n",
    "\n",
    "        df = pd.DataFrame(generador,index=list(range(1,nBits+1)))\n",
    "\n",
    "        # print(df)\n",
    "        # print(conversion)\n",
    "        # print(conversion2)\n",
    "        return conversion2\n",
    "\n",
    "    else:\n",
    "        print(\"el valor de h tiene que ser menor a q\")\n",
    "\n",
    "poker(tausworth(15,7,7))"
   ]
  },
  {
   "cell_type": "code",
   "execution_count": 382,
   "metadata": {},
   "outputs": [
    {
     "data": {
      "text/plain": [
       "'0.06600'"
      ]
     },
     "execution_count": 382,
     "metadata": {},
     "output_type": "execute_result"
    }
   ],
   "source": [
    "a=0.0660\n",
    "a=str(a)\n",
    "# while True:\n",
    "#     longitud=len(a)-2\n",
    "#     if longitud < 5:\n",
    "#         a+=\"0\"\n",
    "#     else:\n",
    "#         break\n",
    "a"
   ]
  }
 ],
 "metadata": {
  "interpreter": {
   "hash": "5fde5a1c66613c5e0d12d14d43a0c63d70f9e603c0cd7171028d36a8b31bd032"
  },
  "kernelspec": {
   "display_name": "Python 3.9.7 ('base')",
   "language": "python",
   "name": "python3"
  },
  "language_info": {
   "codemirror_mode": {
    "name": "ipython",
    "version": 3
   },
   "file_extension": ".py",
   "mimetype": "text/x-python",
   "name": "python",
   "nbconvert_exporter": "python",
   "pygments_lexer": "ipython3",
   "version": "3.9.7"
  },
  "orig_nbformat": 4
 },
 "nbformat": 4,
 "nbformat_minor": 2
}

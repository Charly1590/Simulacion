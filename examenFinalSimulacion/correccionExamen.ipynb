{
 "cells": [
  {
   "cell_type": "code",
   "execution_count": 99,
   "metadata": {},
   "outputs": [
    {
     "name": "stdout",
     "output_type": "stream",
     "text": [
      "Teatro Carlos Crespi - UPS\n",
      "el  bus1 con destino Guayaquil llego a las  [154.40729598] a su destino\n",
      "el  bus1 con destino Guayaquil regreso a las  [239.7115849]\n",
      "el  bus2 con destino Quito llego a las  [278.96632879] a su destino\n",
      "el  bus2 con destino Quito regreso a las  [468.94606295]\n",
      "el  bus1 con destino Cuenca llego a las  [483.52860402] a su destino\n",
      "el  bus3 con destino Quito llego a las  [502.62797819] a su destino\n",
      "el  bus4 con destino Guayaquil llego a las  [553.30030729] a su destino\n",
      "el  bus5 con destino Quito llego a las  [620.32717301] a su destino\n",
      "el  bus1 con destino Cuenca regreso a las  [727.34562315]\n",
      "el  bus3 con destino Quito regreso a las  [894.71158644]\n",
      "el  bus4 con destino Guayaquil regreso a las  [974.82258261]\n",
      "el  bus2 con destino Tena llego a las  [995.27763609] a su destino\n",
      "el  bus5 con destino Quito regreso a las  [1093.14179668]\n",
      "el  bus4 con destino Baños llego a las  [1239.8353611] a su destino\n",
      "el  bus3 con destino Tena llego a las  [1333.13197025] a su destino\n",
      "el  bus1 con destino Guayaquil llego a las  [1447.33837263] a su destino\n",
      "el  bus4 con destino Baños regreso a las  [1504.84813958]\n",
      "el  bus2 con destino Tena regreso a las  [1521.60920923]\n",
      "el  bus5 con destino Baños llego a las  [1696.29363299] a su destino\n",
      "el  bus3 con destino Tena regreso a las  [1771.55235406]\n",
      "el  bus2 con destino Tena llego a las  [1912.02454749] a su destino\n",
      "el  bus4 con destino Tena llego a las  [2004.86594263] a su destino\n",
      "el  bus1 con destino Guayaquil regreso a las  [2167.33112212]\n",
      "el  bus1 con destino Ibarra llego a las  [2250.3258918] a su destino\n",
      "el  bus5 con destino Baños regreso a las  [2299.4454693]\n",
      "el  bus2 con destino Tena regreso a las  [2302.43988575]\n",
      "el  bus1 con destino Ibarra regreso a las  [2333.32066148]\n",
      "el  bus3 con destino Ibarra llego a las  [2395.10633122] a su destino\n",
      "el  bus4 con destino Tena regreso a las  [2504.88374569]\n",
      "el  bus1 con destino Cuenca llego a las  [2562.8118843] a su destino\n",
      "el  bus2 con destino Ibarra llego a las  [2759.60373946] a su destino\n",
      "el  bus1 con destino Cuenca regreso a las  [2792.30310713]\n",
      "el  bus4 con destino Quito llego a las  [2823.99155213] a su destino\n",
      "el  bus5 con destino Cuenca llego a las  [2831.82492581] a su destino\n",
      "el  bus3 con destino Ibarra regreso a las  [3018.66030837]\n",
      "el  bus4 con destino Quito regreso a las  [3143.09935857]\n",
      "el  bus2 con destino Ibarra regreso a las  [3209.53575622]\n",
      "el  bus5 con destino Cuenca regreso a las  [3364.20438232]\n",
      "el  bus2 con destino Guayaquil llego a las  [3369.79345577] a su destino\n",
      "el  bus1 con destino Quito llego a las  [3449.22082371] a su destino\n",
      "el  bus3 con destino Quito llego a las  [3495.9666708] a su destino\n",
      "el  bus4 con destino Quito llego a las  [3520.93334526] a su destino\n",
      "el  bus2 con destino Guayaquil regreso a las  [3530.05115531]\n",
      "el  bus5 con destino Baños llego a las  [3631.0583472] a su destino\n",
      "el  bus2 con destino Guayaquil llego a las  [3796.90266129] a su destino\n",
      "el  bus5 con destino Baños regreso a las  [3897.91231208]\n",
      "el  bus4 con destino Quito regreso a las  [3898.76733194]\n",
      "el  bus3 con destino Quito regreso a las  [3973.27303322]\n",
      "el  bus2 con destino Guayaquil regreso a las  [4063.75416727]\n",
      "el  bus1 con destino Quito regreso a las  [4106.1385403]\n",
      "el  bus1 con destino Cuenca llego a las  [4309.30878558] a su destino\n",
      "el  bus4 con destino Tena llego a las  [4349.94169719] a su destino\n",
      "el  bus1 con destino Cuenca regreso a las  [4512.47903087]\n",
      "el  bus5 con destino Baños llego a las  [4530.14218265] a su destino\n",
      "el  bus3 con destino Tena llego a las  [4558.29287741] a su destino\n",
      "el  bus1 con destino Cuenca llego a las  [4737.16489157] a su destino\n",
      "el  bus4 con destino Tena regreso a las  [4792.7295983]\n",
      "el  bus2 con destino Tena llego a las  [4814.95712359] a su destino\n",
      "el  bus1 con destino Cuenca regreso a las  [4961.85075227]\n",
      "el  bus3 con destino Tena regreso a las  [5143.31272159]\n",
      "el  bus4 con destino Ibarra llego a las  [5149.31045459] a su destino\n",
      "el  bus5 con destino Baños regreso a las  [5162.37205321]\n",
      "el  bus3 con destino Baños llego a las  [5255.88293796] a su destino\n",
      "el  bus3 con destino Baños regreso a las  [5368.45315433]\n",
      "el  bus1 con destino Ibarra llego a las  [5429.9311009] a su destino\n",
      "el  bus4 con destino Ibarra regreso a las  [5505.89131087]\n",
      "el  bus2 con destino Tena regreso a las  [5566.16007991]\n",
      "el  bus5 con destino Ibarra llego a las  [5863.07210345] a su destino\n",
      "el  bus1 con destino Ibarra regreso a las  [5898.01144953]\n",
      "el  bus4 con destino Quito llego a las  [6008.48645599] a su destino\n",
      "el  bus3 con destino Guayaquil llego a las  [6019.26596508] a su destino\n",
      "el  bus2 con destino Quito llego a las  [6164.41233105] a su destino\n",
      "el  bus1 con destino Quito llego a las  [6286.33260063] a su destino\n",
      "el  bus4 con destino Quito regreso a las  [6511.08160111]\n",
      "el  bus5 con destino Ibarra regreso a las  [6563.77215369]\n",
      "el  bus3 con destino Guayaquil regreso a las  [6670.07877583]\n",
      "el  bus1 con destino Quito regreso a las  [6674.65375172]\n",
      "el  bus2 con destino Quito regreso a las  [6762.6645822]\n",
      "el  bus4 con destino Quito llego a las  [6777.78047615] a su destino\n",
      "el  bus4 con destino Quito regreso a las  [7044.4793512]\n",
      "el  bus4 con destino Cuenca llego a las  [7095.43122291] a su destino\n",
      "el  bus4 con destino Cuenca regreso a las  [7146.38309462]\n",
      "el  bus2 con destino Baños llego a las  [7172.48229878] a su destino\n",
      "el  bus3 con destino Guayaquil llego a las  [7201.97553486] a su destino\n",
      "el  bus1 con destino Cuenca llego a las  [7241.08151592] a su destino\n",
      "el  bus5 con destino Guayaquil llego a las  [7360.76496643] a su destino\n",
      "el  bus2 con destino Baños regreso a las  [7582.30001535]\n",
      "el  bus3 con destino Guayaquil regreso a las  [7733.87229388]\n",
      "el  bus1 con destino Cuenca regreso a las  [7805.76681798]\n",
      "el  bus4 con destino Tena llego a las  [7910.6335809] a su destino\n",
      "el  bus5 con destino Guayaquil regreso a las  [8157.75777918]\n",
      "el  bus2 con destino Tena llego a las  [8233.04392757] a su destino\n",
      "el  bus1 con destino Tena llego a las  [8320.58515166] a su destino\n",
      "el  bus3 con destino Tena llego a las  [8348.72235773] a su destino\n",
      "el  bus5 con destino Tena llego a las  [8384.24127736] a su destino\n",
      "el  bus5 con destino Tena regreso a las  [8610.72477554]\n",
      "el  bus4 con destino Tena regreso a las  [8674.88406718]\n",
      "el  bus1 con destino Tena regreso a las  [8835.40348535]\n",
      "el  bus2 con destino Tena regreso a las  [8883.78783978]\n",
      "el  bus3 con destino Tena regreso a las  [8963.57242158]\n",
      "el  bus4 con destino Ibarra llego a las  [9019.22525592] a su destino\n",
      "el  bus5 con destino Tena llego a las  [9083.39247921] a su destino\n",
      "el  bus4 con destino Ibarra regreso a las  [9363.56644466]\n",
      "el  bus3 con destino Quito llego a las  [9386.89590208] a su destino\n",
      "el  bus2 con destino Quito llego a las  [9406.8991112] a su destino\n",
      "el  bus5 con destino Tena regreso a las  [9556.06018287]\n",
      "el  bus1 con destino Ibarra llego a las  [9556.91954683] a su destino\n",
      "el  bus4 con destino Quito llego a las  [9802.87908966] a su destino\n",
      "el  bus3 con destino Quito regreso a las  [9810.21938258]\n",
      "el  bus2 con destino Quito regreso a las  [9930.01038262]\n",
      "el  bus5 con destino Quito llego a las  [10067.04933605] a su destino\n"
     ]
    }
   ],
   "source": [
    "import collections\n",
    "import random\n",
    "import simpy\n",
    "from scipy import stats\n",
    "import numpy as np\n",
    "\n",
    "VELOCIDAD_LLEGADA = 20\n",
    "NUM_BOLETO = 40\n",
    "TIEMPO_SIMULACION = 7*24*60\n",
    "\n",
    "boletos_lugares={}\n",
    "\n",
    "nBus=[0,0,0,0,0]\n",
    "\n",
    "aux=0\n",
    "aux2=0\n",
    "ventas=0\n",
    "ventasPorDia=[]\n",
    "\n",
    "lugaresDestino = {'Quito':0, 'Guayaquil':0, 'Cuenca':0, 'Baños':0, 'Tena':0, 'Ibarra':0}\n",
    "lugaresOrigen = {'Quito':0, 'Guayaquil':0, 'Cuenca':0, 'Baños':0, 'Tena':0, 'Ibarra':0}\n",
    "bus1={'1':0,'2':0,'3':0,'4':0,'5':0,'6':0,'7':0}\n",
    "bus2={'1':0,'2':0,'3':0,'4':0,'5':0,'6':0,'7':0}\n",
    "bus3={'1':0,'2':0,'3':0,'4':0,'5':0,'6':0,'7':0}\n",
    "bus4={'1':0,'2':0,'3':0,'4':0,'5':0,'6':0,'7':0}\n",
    "bus5={'1':0,'2':0,'3':0,'4':0,'5':0,'6':0,'7':0}\n",
    "\n",
    "def subida_al_bus(env, nbus, pasajeros, dia):\n",
    "  global nBus\n",
    "  global bus1\n",
    "  global bus2\n",
    "  global bus3\n",
    "  global bus4\n",
    "  global bus5\n",
    "\n",
    "  with buses.request() as bus:\n",
    "    yield bus\n",
    "    nB=0\n",
    "    for i in range(len(nBus)):\n",
    "        if nBus[i] == 0:\n",
    "            nB=i+1\n",
    "            nBus[i] = str(bus)\n",
    "            a='bus'+str(nB)\n",
    "            break\n",
    "    if nB==1:\n",
    "      bus1[dia]+=pasajeros\n",
    "    elif nB==2:\n",
    "      bus2[dia]+=pasajeros\n",
    "    elif nB==3:\n",
    "      bus3[dia]+=pasajeros\n",
    "    elif nB==4:\n",
    "      bus4[dia]+=pasajeros\n",
    "    elif nB==5:\n",
    "      bus5[dia]+=pasajeros\n",
    "\n",
    "    nbus=nbus.replace('bus',a)\n",
    "    yield env.process(viaje(env, nbus))\n",
    "    nBus[nB-1]=0\n",
    "    \n",
    "\n",
    "def viaje(env, bus):\n",
    "    while True:\n",
    "        mu, sigma = 6*60, 4*60 # media y desvio estandar\n",
    "        normal = stats.norm(mu, sigma)  \n",
    "        aleatorios = normal.rvs(1) \n",
    "        if aleatorios>=0:\n",
    "            break\n",
    "    yield env.timeout(aleatorios)\n",
    "    print('el ', bus, 'llego a las ', env.now, 'a su destino')\n",
    "    yield env.timeout(aleatorios)\n",
    "    print('el ', bus, 'regreso a las ', env.now)\n",
    "\n",
    "\n",
    "def viaje_antes(env,bus, pasajeros):\n",
    "  print('el bus salio antes')\n",
    "  subida_al_bus(env, bus, pasajeros)\n",
    "\n",
    "\n",
    "def ventaBoletos(env, num_boletos, lugar, lugar2,buses):\n",
    "  # print('entra')\n",
    "  global aux\n",
    "  global aux2\n",
    "  global ventas\n",
    "  global ventasPorDia\n",
    "  global lugaresDestino\n",
    "  global lugaresOrigen\n",
    "  with buses.contador.request() as asiento:\n",
    "      \n",
    "      resultado = yield asiento | agencia.sold_out[lugar]\n",
    "      if asiento not in resultado:\n",
    "        agencia.num_renegados[lugar] += 1\n",
    "        return\n",
    "      if agencia.num_boletos[lugar] < num_boletos:\n",
    "        return\n",
    "      else:\n",
    "        lugaresDestino[lugar]+=num_boletos\n",
    "        lugaresOrigen[lugar2]+=num_boletos\n",
    "        aleatorios=0\n",
    "        while True:\n",
    "          mu, sigma = 10, 2 # media y desvio estandar\n",
    "          normal = stats.norm(mu, sigma)  \n",
    "          aleatorios = normal.rvs(1) \n",
    "          if aleatorios>=0:\n",
    "              break\n",
    "        yield env.timeout(aleatorios) \n",
    "        if lugar in list(boletos_lugares.keys()):\n",
    "          a=boletos_lugares.get(lugar)\n",
    "          a.append(num_boletos)\n",
    "          boletos_lugares[lugar]=a\n",
    "        else:\n",
    "          boletos_lugares[lugar]=[num_boletos]\n",
    "      agencia.num_boletos[lugar] -= num_boletos\n",
    "\n",
    "      ro2=env.now/1440\n",
    "      ro2= np.trunc(ro2)\n",
    "      if ro2 != aux2:\n",
    "        # print('dia: ',ro2)\n",
    "        ventasPorDia.append(ventas)\n",
    "        ventas=0\n",
    "        aux2=ro2\n",
    "\n",
    "      if agencia.num_boletos[lugar] < 2:\n",
    "        bus='bus con destino '+lugar\n",
    "        yield env.process(subida_al_bus(env,bus, 40, str(int(ro2[0])+1)))\n",
    "        agencia.sold_out[lugar].succeed()\n",
    "        agencia.tiempo_agotado[lugar] = env.now\n",
    "        z=buses.num_boletos\n",
    "        z[lugar]=40\n",
    "        buses.num_boletos[lugar]=40\n",
    "        buses.sold_out[lugar]=env.event()\n",
    "        ventas+=40\n",
    "\n",
    "      \n",
    "      ro=env.now/60\n",
    "      ro= np.trunc(ro)\n",
    "      if ro != aux:\n",
    "        bus='bus con destino '+lugar\n",
    "        n=40-agencia.num_boletos[lugar]\n",
    "        ventas+=n\n",
    "        yield env.process(subida_al_bus(env,bus, n,str(int(ro2[0])+1)))\n",
    "        agencia.sold_out[lugar].succeed()\n",
    "        agencia.tiempo_agotado[lugar] = env.now\n",
    "        z=buses.num_boletos\n",
    "        z[lugar]=40\n",
    "        buses.num_boletos[lugar]=40\n",
    "        buses.sold_out[lugar]=env.event()\n",
    "        aux=ro\n",
    "      \n",
    "      \n",
    "\n",
    "\n",
    "\n",
    "def llegadaClientes(env, teatro, VELOCIDAD_LLEGADA):\n",
    "  while True:\n",
    "    yield env.timeout(VELOCIDAD_LLEGADA)\n",
    "    bernoulli = stats.bernoulli(0.5)\n",
    "    pGenero = bernoulli.rvs(1) \n",
    "    genero=''\n",
    "    if pGenero == 1:\n",
    "        genero='masculino'\n",
    "    else:\n",
    "        genero='femenino'\n",
    "    \n",
    "    edad=0\n",
    "    while True:\n",
    "        mu = 20 # parametro de forma \n",
    "        poisson = stats.poisson(mu) \n",
    "        edad=poisson.rvs(1)\n",
    "        if edad>=18:\n",
    "            break\n",
    "    \n",
    "    lugar = random.choices(teatro.lugares, teatro.probabilidad, k=1)\n",
    "    lugar2 = random.choices(teatro.lugares, teatro.probabilidad, k=1)\n",
    "\n",
    "    \n",
    "    num_boletos = random.randint(1, 6)\n",
    "    # print(teatro.num_boletos)\n",
    "    # print('la persona con nombre \"nombre\" con genero ',genero,' y edad ',edad, 'compro ', num_boletos,' boletos para ', lugar)\n",
    "    # if teatro.num_boletos[lugar[0]]:\n",
    "    env.process(ventaBoletos(env, num_boletos, lugar[0],lugar2[0], teatro))\n",
    "\n",
    "\n",
    "Agencia = collections.namedtuple('Teatro', 'contador, lugares, probabilidad, num_boletos, sold_out, tiempo_agotado, num_renegados')\n",
    "\n",
    "print('Teatro Carlos Crespi - UPS')\n",
    "env = simpy.Environment()\n",
    "\n",
    "contador = simpy.Resource(env,capacity=6)\n",
    "buses = simpy.Resource(env, 5)\n",
    "\n",
    "lugares = ['Quito', 'Guayaquil', 'Cuenca', 'Baños', 'Tena', 'Ibarra']\n",
    "probabilidad=[0.6,0.5,0.4,0.3,0.2,0.1]\n",
    "\n",
    "num_boletos = {lugar: NUM_BOLETO for lugar in lugares}\n",
    "sold_out = {lugar: env.event() for lugar in lugares}\n",
    "tiempo_agotado = {lugar: None for lugar in lugares}\n",
    "num_renegados = {lugar: 0 for lugar in lugares}\n",
    "\n",
    "agencia = Agencia(contador, lugares, probabilidad, num_boletos, sold_out, tiempo_agotado, num_renegados)\n",
    "env.process(llegadaClientes(env, agencia, VELOCIDAD_LLEGADA))\n",
    "env.run(until=TIEMPO_SIMULACION)\n",
    "\n"
   ]
  },
  {
   "cell_type": "code",
   "execution_count": 100,
   "metadata": {},
   "outputs": [
    {
     "name": "stdout",
     "output_type": "stream",
     "text": [
      "{'Quito': 138, 'Guayaquil': 83, 'Cuenca': 61, 'Baños': 53, 'Tena': 24, 'Ibarra': 20}\n",
      "{'Quito': 56, 'Guayaquil': 36, 'Cuenca': 35, 'Baños': 17, 'Tena': 54, 'Ibarra': 31}\n",
      "{'Quito': 68, 'Guayaquil': 54, 'Cuenca': 38, 'Baños': 33, 'Tena': 22, 'Ibarra': 14}\n",
      "[85, 79, 71, 38, 56, 59]\n",
      "6\n",
      "{'1': 13, '2': 21, '3': 14, '4': 13, '5': 3, '6': 14, '7': 9}\n",
      "{'1': 8, '2': 36, '3': 20, '4': 3, '5': 7, '6': 0, '7': 10}\n",
      "{'1': 19, '2': 14, '3': 8, '4': 9, '5': 14, '6': 9, '7': 28}\n",
      "{'1': 31, '2': 3, '3': 16, '4': 4, '5': 23, '6': 4, '7': 11}\n",
      "{'1': 14, '2': 5, '3': 13, '4': 9, '5': 9, '6': 32, '7': 16}\n"
     ]
    }
   ],
   "source": [
    "print(agencia.num_renegados)\n",
    "print(lugaresDestino)\n",
    "print(lugaresOrigen)\n",
    "print(ventasPorDia)\n",
    "print(len(ventasPorDia))\n",
    "print(bus1)\n",
    "print(bus2)\n",
    "print(bus3)\n",
    "print(bus4)\n",
    "print(bus5)"
   ]
  },
  {
   "cell_type": "markdown",
   "metadata": {},
   "source": [
    "# Cantidaad de renegados"
   ]
  },
  {
   "cell_type": "code",
   "execution_count": null,
   "metadata": {},
   "outputs": [
    {
     "data": {
      "image/png": "[encoded data removed]",
      "text/plain": [
       "<Figure size 1080x432 with 1 Axes>"
      ]
     },
     "metadata": {
      "needs_background": "light"
     },
     "output_type": "display_data"
    }
   ],
   "source": [
    "import matplotlib.pyplot as plt\n",
    "\n",
    "eje_x = list(agencia.num_renegados.keys())\n",
    "eje_y = list(agencia.num_renegados.values())\n",
    "\n",
    "plt.figure(figsize=(15, 6))\n",
    "plt.bar(eje_x, eje_y, color=\"blue\")\n",
    "plt.ylabel('Cantidaad de renegados')\n",
    "plt.xlabel('Destinos')\n",
    "plt.show()"
   ]
  },
  {
   "cell_type": "markdown",
   "metadata": {},
   "source": [
    "# ventas por dia"
   ]
  },
  {
   "cell_type": "code",
   "execution_count": null,
   "metadata": {},
   "outputs": [
    {
     "data": {
      "image/png": "[encoded data removed]",
      "text/plain": [
       "<Figure size 1080x432 with 1 Axes>"
      ]
     },
     "metadata": {
      "needs_background": "light"
     },
     "output_type": "display_data"
    }
   ],
   "source": [
    "eje_x = list(range(1,len(ventasPorDia)+1))\n",
    "eje_y = ventasPorDia\n",
    "\n",
    "plt.figure(figsize=(15, 6))\n",
    "plt.bar(eje_x, eje_y, color=\"blue\")\n",
    "plt.ylabel('ventas por dia')\n",
    "plt.xlabel('Dia')\n",
    "plt.show()"
   ]
  },
  {
   "cell_type": "markdown",
   "metadata": {},
   "source": [
    "# Ciudades mas vicitadas"
   ]
  },
  {
   "cell_type": "code",
   "execution_count": null,
   "metadata": {},
   "outputs": [
    {
     "data": {
      "image/png": "[encoded data removed]",
      "text/plain": [
       "<Figure size 1080x432 with 1 Axes>"
      ]
     },
     "metadata": {
      "needs_background": "light"
     },
     "output_type": "display_data"
    }
   ],
   "source": [
    "\n",
    "eje_x = list(lugaresDestino.keys())\n",
    "eje_y = list(lugaresDestino.values())\n",
    "\n",
    "plt.figure(figsize=(15, 6))\n",
    "plt.bar(eje_x, eje_y, color=\"blue\")\n",
    "plt.ylabel('Cantidaad de personas que compraon boleto a')\n",
    "plt.xlabel('Destinos')\n",
    "plt.show()"
   ]
  },
  {
   "cell_type": "markdown",
   "metadata": {},
   "source": [
    "# Ciudades de origen que mas viajan"
   ]
  },
  {
   "cell_type": "code",
   "execution_count": null,
   "metadata": {},
   "outputs": [
    {
     "data": {
      "image/png": "[encoded data removed]",
      "text/plain": [
       "<Figure size 1080x432 with 1 Axes>"
      ]
     },
     "metadata": {
      "needs_background": "light"
     },
     "output_type": "display_data"
    }
   ],
   "source": [
    "eje_x = list(lugaresOrigen.keys())\n",
    "eje_y = list(lugaresOrigen.values())\n",
    "\n",
    "plt.figure(figsize=(15, 6))\n",
    "plt.bar(eje_x, eje_y, color=\"blue\")\n",
    "plt.ylabel('Cantidaad de personas que compraon boleto desde')\n",
    "plt.xlabel('origen')\n",
    "plt.show()"
   ]
  },
  {
   "cell_type": "markdown",
   "metadata": {},
   "source": [
    "# Buses con su uso"
   ]
  },
  {
   "cell_type": "markdown",
   "metadata": {},
   "source": [
    "## Bus 1"
   ]
  },
  {
   "cell_type": "code",
   "execution_count": 101,
   "metadata": {},
   "outputs": [
    {
     "data": {
      "image/png": "[encoded data removed]",
      "text/plain": [
       "<Figure size 1080x432 with 1 Axes>"
      ]
     },
     "metadata": {
      "needs_background": "light"
     },
     "output_type": "display_data"
    }
   ],
   "source": [
    "eje_x = list(bus1.keys())\n",
    "eje_y = list(bus1.values())\n",
    "\n",
    "plt.figure(figsize=(15, 6))\n",
    "plt.bar(eje_x, eje_y, color=\"blue\")\n",
    "plt.ylabel('Cantidaad de pasajeros')\n",
    "plt.xlabel('Dia')\n",
    "plt.show()"
   ]
  },
  {
   "cell_type": "markdown",
   "metadata": {},
   "source": [
    "## Bus 2"
   ]
  },
  {
   "cell_type": "code",
   "execution_count": 103,
   "metadata": {},
   "outputs": [
    {
     "data": {
      "image/png": "[encoded data removed]",
      "text/plain": [
       "<Figure size 1080x432 with 1 Axes>"
      ]
     },
     "metadata": {
      "needs_background": "light"
     },
     "output_type": "display_data"
    }
   ],
   "source": [
    "eje_x = list(bus2.keys())\n",
    "eje_y = list(bus2.values())\n",
    "\n",
    "plt.figure(figsize=(15, 6))\n",
    "plt.bar(eje_x, eje_y, color=\"blue\")\n",
    "plt.ylabel('Cantidaad de pasajeros')\n",
    "plt.xlabel('Dia')\n",
    "plt.show()"
   ]
  },
  {
   "cell_type": "markdown",
   "metadata": {},
   "source": [
    "## Bus 3"
   ]
  },
  {
   "cell_type": "code",
   "execution_count": 104,
   "metadata": {},
   "outputs": [
    {
     "data": {
      "image/png": "[encoded data removed]",
      "text/plain": [
       "<Figure size 1080x432 with 1 Axes>"
      ]
     },
     "metadata": {
      "needs_background": "light"
     },
     "output_type": "display_data"
    }
   ],
   "source": [
    "eje_x = list(bus3.keys())\n",
    "eje_y = list(bus3.values())\n",
    "\n",
    "plt.figure(figsize=(15, 6))\n",
    "plt.bar(eje_x, eje_y, color=\"blue\")\n",
    "plt.ylabel('Cantidaad de pasajeros')\n",
    "plt.xlabel('Dia')\n",
    "plt.show()"
   ]
  },
  {
   "cell_type": "markdown",
   "metadata": {},
   "source": [
    "## Bus 4"
   ]
  },
  {
   "cell_type": "code",
   "execution_count": 105,
   "metadata": {},
   "outputs": [
    {
     "data": {
      "image/png": "[encoded data removed]",
      "text/plain": [
       "<Figure size 1080x432 with 1 Axes>"
      ]
     },
     "metadata": {
      "needs_background": "light"
     },
     "output_type": "display_data"
    }
   ],
   "source": [
    "eje_x = list(bus4.keys())\n",
    "eje_y = list(bus4.values())\n",
    "\n",
    "plt.figure(figsize=(15, 6))\n",
    "plt.bar(eje_x, eje_y, color=\"blue\")\n",
    "plt.ylabel('Cantidaad de pasajeros')\n",
    "plt.xlabel('Dia')\n",
    "plt.show()"
   ]
  },
  {
   "cell_type": "markdown",
   "metadata": {},
   "source": [
    "## Bus 5"
   ]
  },
  {
   "cell_type": "code",
   "execution_count": 106,
   "metadata": {},
   "outputs": [
    {
     "data": {
      "image/png": "[encoded data removed]",
      "text/plain": [
       "<Figure size 1080x432 with 1 Axes>"
      ]
     },
     "metadata": {
      "needs_background": "light"
     },
     "output_type": "display_data"
    }
   ],
   "source": [
    "eje_x = list(bus5.keys())\n",
    "eje_y = list(bus5.values())\n",
    "\n",
    "plt.figure(figsize=(15, 6))\n",
    "plt.bar(eje_x, eje_y, color=\"blue\")\n",
    "plt.ylabel('Cantidaad de pasajeros')\n",
    "plt.xlabel('Dia')\n",
    "plt.show()"
   ]
  }
 ],
 "metadata": {
  "kernelspec": {
   "display_name": "Python 3.9.7 ('base')",
   "language": "python",
   "name": "python3"
  },
  "language_info": {
   "codemirror_mode": {
    "name": "ipython",
    "version": 3
   },
   "file_extension": ".py",
   "mimetype": "text/x-python",
   "name": "python",
   "nbconvert_exporter": "python",
   "pygments_lexer": "ipython3",
   "version": "3.9.7"
  },
  "orig_nbformat": 4,
  "vscode": {
   "interpreter": {
    "hash": "5fde5a1c66613c5e0d12d14d43a0c63d70f9e603c0cd7171028d36a8b31bd032"
   }
  }
 },
 "nbformat": 4,
 "nbformat_minor": 2
}

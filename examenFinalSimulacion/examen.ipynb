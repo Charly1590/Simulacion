{
 "cells": [
  {
   "cell_type": "code",
   "execution_count": 106,
   "metadata": {},
   "outputs": [
    {
     "name": "stdout",
     "output_type": "stream",
     "text": [
      "Teatro Carlos Crespi - UPS\n",
      "el  ('bus con destino ', 'Guayaquil') llego a las  [34.61946729] a su destino\n",
      "el  ('bus con destino ', 'Guayaquil') regreso a las  [37.23893458]\n",
      "el  ('bus con destino ', 'Quito') llego a las  [60.11071184] a su destino\n",
      "el  ('bus con destino ', 'Quito') regreso a las  [71.6704778]\n",
      "el  ('bus con destino ', 'Cuenca') llego a las  [78.98799161] a su destino\n",
      "el  ('bus con destino ', 'Cuenca') regreso a las  [86.30550543]\n",
      "el  ('bus con destino ', 'Tena') llego a las  [130.31340443] a su destino\n",
      "el  ('bus con destino ', 'Tena') regreso a las  [135.78231741]\n",
      "el  ('bus con destino ', 'Baños') llego a las  [205.17501809] a su destino\n",
      "el  ('bus con destino ', 'Baños') regreso a las  [211.78753881]\n",
      "el  ('bus con destino ', 'Ibarra') llego a las  [214.40091961] a su destino\n",
      "el  ('bus con destino ', 'Ibarra') regreso a las  [217.01430041]\n"
     ]
    }
   ],
   "source": [
    "import collections\n",
    "import random\n",
    "import simpy\n",
    "from scipy import stats\n",
    "\n",
    "VELOCIDAD_LLEGADA = 1\n",
    "NUM_BOLETO = 40\n",
    "TIEMPO_SIMULACION = 7*24*60\n",
    "\n",
    "boletos_lugares={}\n",
    "\n",
    "def viaje(env, bus):\n",
    "    while True:\n",
    "        mu, sigma = 6, 4 # media y desvio estandar\n",
    "        normal = stats.norm(mu, sigma)  \n",
    "        aleatorios = normal.rvs(1) \n",
    "        if aleatorios>=0:\n",
    "            break\n",
    "    yield env.timeout(aleatorios)\n",
    "    print('el ', bus, 'llego a las ', env.now, 'a su destino')\n",
    "    yield env.timeout(aleatorios)\n",
    "    print('el ', bus, 'regreso a las ', env.now)\n",
    "\n",
    "\n",
    "def viaje_antes(env,bus):\n",
    "  print('el bus salio antes')\n",
    "  viaje(env, bus)\n",
    "\n",
    "\n",
    "def ventaBoletos(env, num_boletos, lugar, buses):\n",
    "  with buses.contador.request() as asiento:\n",
    "      resultado = yield asiento | agencia.sold_out[lugar]\n",
    "      if asiento not in resultado:\n",
    "        agencia.num_renegados[lugar] += 1\n",
    "        return\n",
    "      if agencia.num_boletos[lugar] < num_boletos:\n",
    "        aleatorios=0\n",
    "        while True:\n",
    "          mu, sigma = 10, 2 # media y desvio estandar\n",
    "          normal = stats.norm(mu, sigma)  \n",
    "          aleatorios = normal.rvs(1) \n",
    "          if aleatorios>=0:\n",
    "              break\n",
    "        yield env.timeout(aleatorios) \n",
    "        return\n",
    "      else:\n",
    "        if lugar in list(boletos_lugares.keys()):\n",
    "          a=boletos_lugares.get(lugar)\n",
    "          a.append(num_boletos)\n",
    "          boletos_lugares[lugar]=a\n",
    "        else:\n",
    "          boletos_lugares[lugar]=[num_boletos]\n",
    "      agencia.num_boletos[lugar] -= num_boletos\n",
    "      if agencia.num_boletos[lugar] < 2:\n",
    "        bus='bus con destino ',lugar\n",
    "        yield env.process(viaje(env,bus))\n",
    "        agencia.sold_out[lugar].succeed()\n",
    "        agencia.tiempo_agotado[lugar] = env.now\n",
    "        agencia.num_boletos[lugar] = 0\n",
    "\n",
    "\n",
    "def llegadaClientes(env, teatro, VELOCIDAD_LLEGADA):\n",
    "  while True:\n",
    "    yield env.timeout(VELOCIDAD_LLEGADA)\n",
    "    bernoulli = stats.bernoulli(0.5)\n",
    "    pGenero = bernoulli.rvs(1) \n",
    "    genero=''\n",
    "    if pGenero == 1:\n",
    "        genero='masculino'\n",
    "    else:\n",
    "        genero='femenino'\n",
    "    \n",
    "    edad=0\n",
    "    while True:\n",
    "        mu = 20 # parametro de forma \n",
    "        poisson = stats.poisson(mu) \n",
    "        edad=poisson.rvs(1)\n",
    "        if edad>=18:\n",
    "            break\n",
    "    \n",
    "    lugar = random.choices(teatro.lugares, teatro.probabilidad, k=1)\n",
    "    num_boletos = random.randint(1, 6)\n",
    "    # print('la persona con nombre \"nombre\" con genero ',genero,' y edad ',edad, 'compro ', num_boletos,' boletos para ', lugar)\n",
    "    if teatro.num_boletos[lugar[0]]:\n",
    "      env.process(ventaBoletos(env, num_boletos, lugar[0], teatro))\n",
    "\n",
    "\n",
    "Agencia = collections.namedtuple('Teatro', 'contador, lugares, probabilidad, num_boletos, sold_out, tiempo_agotado, num_renegados')\n",
    "\n",
    "print('Teatro Carlos Crespi - UPS')\n",
    "env = simpy.Environment()\n",
    "\n",
    "contador = simpy.Resource(env,capacity=1)\n",
    "lugares = ['Quito', 'Guayaquil', 'Cuenca', 'Baños', 'Tena', 'Ibarra']\n",
    "probabilidad=[0.6,0.5,0.4,0.3,0.2,0.1]\n",
    "num_boletos = {lugar: NUM_BOLETO for lugar in lugares}\n",
    "sold_out = {lugar: env.event() for lugar in lugares}\n",
    "tiempo_agotado = {lugar: None for lugar in lugares}\n",
    "num_renegados = {lugar: 0 for lugar in lugares}\n",
    "\n",
    "agencia = Agencia(contador, lugares, probabilidad, num_boletos, sold_out, tiempo_agotado, num_renegados)\n",
    "env.process(llegadaClientes(env, agencia, VELOCIDAD_LLEGADA))\n",
    "env.run(until=TIEMPO_SIMULACION)\n"
   ]
  },
  {
   "cell_type": "code",
   "execution_count": 107,
   "metadata": {},
   "outputs": [
    {
     "name": "stdout",
     "output_type": "stream",
     "text": [
      "Los boletos para: Quito se agoto en el tiempo 71.7 despues de salir a la venta\n",
      "Numero de personas que salieron de la fila/renegados 10\n",
      "Los boletos para: Guayaquil se agoto en el tiempo 37.2 despues de salir a la venta\n",
      "Numero de personas que salieron de la fila/renegados 0\n",
      "Los boletos para: Cuenca se agoto en el tiempo 86.3 despues de salir a la venta\n",
      "Numero de personas que salieron de la fila/renegados 4\n",
      "Los boletos para: Baños se agoto en el tiempo 211.8 despues de salir a la venta\n",
      "Numero de personas que salieron de la fila/renegados 10\n",
      "Los boletos para: Tena se agoto en el tiempo 135.8 despues de salir a la venta\n",
      "Numero de personas que salieron de la fila/renegados 0\n",
      "Los boletos para: Ibarra se agoto en el tiempo 217.0 despues de salir a la venta\n",
      "Numero de personas que salieron de la fila/renegados 1\n"
     ]
    }
   ],
   "source": [
    "# Analisis y resultados\n",
    "for lugar in lugares:\n",
    "  if agencia.sold_out[lugar]:\n",
    "    print('Los boletos para: %s se agoto en el tiempo %.1f despues de salir a la venta' %(lugar, agencia.tiempo_agotado[lugar]))\n",
    "    print('Numero de personas que salieron de la fila/renegados %s' %agencia.num_renegados[lugar])"
   ]
  },
  {
   "cell_type": "code",
   "execution_count": 108,
   "metadata": {},
   "outputs": [
    {
     "name": "stdout",
     "output_type": "stream",
     "text": [
      "{'Tena': [5, 1, 4, 1, 1, 1, 2, 6, 1, 4, 5, 3, 6], 'Ibarra': [2, 6, 1, 5, 2, 2, 1, 3, 2, 6, 4, 5], 'Quito': [1, 2, 1, 1, 5, 3, 5, 3, 5, 6, 3, 4], 'Baños': [1, 5, 4, 4, 2, 3, 5, 1, 2, 1, 5, 5, 1], 'Cuenca': [4, 6, 4, 3, 2, 6, 3, 1, 3, 3, 1, 4], 'Guayaquil': [6, 2, 1, 4, 6, 6, 6, 4, 5]}\n"
     ]
    }
   ],
   "source": [
    "print(boletos_lugares)"
   ]
  },
  {
   "cell_type": "markdown",
   "metadata": {},
   "source": [
    "Se puede decir que dentro de esta simulacion no existen muchas personas renegadas o que se quedaron sin boleto ademas esta simulacion nos  da a entender que los lugares que mas se vendiero son para Quito"
   ]
  },
  {
   "cell_type": "code",
   "execution_count": null,
   "metadata": {},
   "outputs": [],
   "source": []
  }
 ],
 "metadata": {
  "kernelspec": {
   "display_name": "Python 3.9.7 ('base')",
   "language": "python",
   "name": "python3"
  },
  "language_info": {
   "name": "python",
   "version": "3.9.7"
  },
  "orig_nbformat": 4,
  "vscode": {
   "interpreter": {
    "hash": "5fde5a1c66613c5e0d12d14d43a0c63d70f9e603c0cd7171028d36a8b31bd032"
   }
  }
 },
 "nbformat": 4,
 "nbformat_minor": 2
}

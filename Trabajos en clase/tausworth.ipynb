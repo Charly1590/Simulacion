{
 "cells": [
  {
   "cell_type": "code",
   "execution_count": 1,
   "metadata": {},
   "outputs": [
    {
     "name": "stdout",
     "output_type": "stream",
     "text": [
      "   0\n",
      "1  1\n",
      "2  1\n",
      "3  1\n",
      "4  1\n",
      "[]\n",
      "[]\n"
     ]
    }
   ],
   "source": [
    "import pandas as pd\n",
    "\n",
    "q=int(input(\"Ingrese el valor de q: \"))\n",
    "h=int(input(\"Ingrese el valor de h: \"))\n",
    "l=int(input(\"Ingrese el valor de l: \"))\n",
    "nBits=int(input(\"Ingrese el numero de bits con el que decea trabajar: \"))\n",
    "\n",
    "generador=[]\n",
    "conversion=[]\n",
    "conversion2=[]\n",
    "result=0\n",
    "\n",
    "vector_l=list(range(l))\n",
    "vector_l.reverse()\n",
    "\n",
    "if h<q:\n",
    "    for i in range(1,len(list(range(1,nBits+1)))+1):\n",
    "        if i<=q:\n",
    "            generador.append(1)\n",
    "        else:\n",
    "            aux1=i-(h+1)\n",
    "            aux2=i-(q+1)\n",
    "            generador.append((generador[aux1]+generador[aux2])%2)\n",
    "\n",
    "    for i in range(l,len(generador)+1,l):\n",
    "        fragmento=generador[i-l:i]\n",
    "        for j in range(len(fragmento)):\n",
    "            result+=fragmento[j]*2**vector_l[j]\n",
    "        conversion.append(result)\n",
    "        conversion2.append(result/(2**l))\n",
    "        result=0\n",
    "    \n",
    "\n",
    "    df = pd.DataFrame(generador,index=list(range(1,nBits+1)))\n",
    "\n",
    "    print(df)\n",
    "    print(conversion)\n",
    "    print(conversion2)\n",
    "\n",
    "else:\n",
    "    print(\"el valor de h tiene que ser menor a q\")"
   ]
  }
 ],
 "metadata": {
  "interpreter": {
   "hash": "5fde5a1c66613c5e0d12d14d43a0c63d70f9e603c0cd7171028d36a8b31bd032"
  },
  "kernelspec": {
   "display_name": "Python 3.9.7 ('base')",
   "language": "python",
   "name": "python3"
  },
  "language_info": {
   "codemirror_mode": {
    "name": "ipython",
    "version": 3
   },
   "file_extension": ".py",
   "mimetype": "text/x-python",
   "name": "python",
   "nbconvert_exporter": "python",
   "pygments_lexer": "ipython3",
   "version": "3.9.7"
  },
  "orig_nbformat": 4
 },
 "nbformat": 4,
 "nbformat_minor": 2
}

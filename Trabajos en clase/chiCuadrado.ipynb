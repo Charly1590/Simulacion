{
 "cells": [
  {
   "cell_type": "code",
   "execution_count": 33,
   "metadata": {},
   "outputs": [],
   "source": [
    "# Importanmos las librerias\n",
    "import random\n",
    "import matplotlib.pyplot as plt\n",
    "import numpy as np\n",
    "import math"
   ]
  },
  {
   "cell_type": "code",
   "execution_count": 34,
   "metadata": {},
   "outputs": [],
   "source": [
    "def chiCuadrado(numerosAleatorios):\n",
    "    #Defino una funcion para realizar un conteo de los numeros que caen dentro de cada intervalo\n",
    "    def calcular_chi(numeros):\n",
    "      tablas = {}\n",
    "      for i in np.arange(0.1, 1.1, 0.1): # aqui separo en intervalos de 0.1\n",
    "        for j in numeros:\n",
    "          if j > i-0.1 and j <= i: # Compruebo si el valor esta dentro del intervalor\n",
    "            tablas[round(i-0.1,1)] = tablas[round(i-0.1,1)]+1 if round(i-0.1,1) in tablas else 1\n",
    "      return tablas\n",
    "    #defino una funcion para aplicar la formula y obtener la desviacion estandar de cada intervalo  \n",
    "    def sumatoria_chi(tabla, E):\n",
    "      return sum([(valor-E)**2/E for valor in tabla.values()])\n",
    "    #Defino una funcion para graficar en un cuadro de barras los valores de cada intervalo\n",
    "    def graficar(tabla):\n",
    "      plt.bar(range(len(tabla)), list(tabla.values()), tick_label=list(tabla.keys()))\n",
    "      plt.show()\n",
    "    # Listo eso es todo\n",
    "    print(\"Tabla de intervalos y el conteo de numeros dentro de cada intervalo\")\n",
    "    tablas = calcular_chi(numerosAleatorios)\n",
    "    print(tablas)\n",
    "    print(\"Calculamos el valor de chi cuadrado\")\n",
    "    return sumatoria_chi(tablas, math.sqrt(10))"
   ]
  },
  {
   "cell_type": "markdown",
   "metadata": {},
   "source": [
    "**Ejercicio en clases:**\n",
    "Calcular, graficar y obtener el valor de Chi Cuadrado para los siguientes generadores con las siguientes semillas:\n",
    "\n",
    "* Cuadrados medios: Xo=74731897457, D=7"
   ]
  },
  {
   "cell_type": "code",
   "execution_count": 35,
   "metadata": {},
   "outputs": [
    {
     "name": "stdout",
     "output_type": "stream",
     "text": [
      "Tabla de intervalos y el conteo de numeros dentro de cada intervalo\n",
      "{0.0: 6, 0.1: 9, 0.2: 10, 0.3: 10, 0.4: 6, 0.5: 12, 0.6: 13, 0.7: 11, 0.8: 7, 0.9: 16}\n",
      "Calculamos el valor de chi cuadrado\n",
      "176.94349709207077\n"
     ]
    }
   ],
   "source": [
    "def cuadradosMedios(xo, digitos):\n",
    "    iteraciones = 100\n",
    "    xn = xo\n",
    "    aleatorios=[]\n",
    "    # print(\"It. \\t Xn \\t Ui \\t Rn\")\n",
    "    for i in range(iteraciones):\n",
    "        xnn = xn**2\n",
    "        txnn = str(xnn).zfill(8)\n",
    "        tam = len(txnn)\n",
    "        ui = int(txnn[int(tam/2-digitos/2):int(tam/2+digitos/2)])\n",
    "        rn = ui / (int('9'*digitos)+1)\n",
    "        aleatorios.append(rn)\n",
    "        # print(str(i) + \"\\t\" + str(xn) + \"\\t\"+ str(ui)+\"\\t\"+str(rn))\n",
    "        xn = ui\n",
    "    return(aleatorios)\n",
    "\n",
    "chi_cuadrado_cuadrados_medios=chiCuadrado(cuadradosMedios(74731897457,7))\n",
    "print(chi_cuadrado_cuadrados_medios)"
   ]
  },
  {
   "cell_type": "markdown",
   "metadata": {},
   "source": [
    "* Congruencia lineal: a=74731897457, b=37747318974, Xo=7, M=19"
   ]
  },
  {
   "cell_type": "code",
   "execution_count": 36,
   "metadata": {},
   "outputs": [
    {
     "name": "stdout",
     "output_type": "stream",
     "text": [
      "It. \t Xn \t Ui\n",
      "Tabla de intervalos y el conteo de numeros dentro de cada intervalo\n",
      "{0.1: 11, 0.3: 22, 0.6: 11, 0.7: 11, 0.8: 23, 0.9: 11}\n",
      "Calculamos el valor de chi cuadrado\n",
      "314.36663168821667\n"
     ]
    }
   ],
   "source": [
    "def congruencia_lineal(a,b,xo,m):\n",
    "    iteraciones = 100\n",
    "    xn = xo\n",
    "    print(\"It. \\t Xn \\t Ui\")\n",
    "    aleatorios=[]\n",
    "    for i in range(iteraciones):\n",
    "        xnn = (a*xn+b) % m\n",
    "        ui = xnn/m\n",
    "        # print(str(i) + \"\\t\"+ str(xnn)+\"\\t\"+str(ui))\n",
    "        aleatorios.append(ui)\n",
    "        xn = xnn\n",
    "    return aleatorios\n",
    "\n",
    "chi_cuadrado_congruencia_lineal=chiCuadrado(congruencia_lineal(74731897457, 37747318974, 7, 19))\n",
    "print(chi_cuadrado_congruencia_lineal)"
   ]
  },
  {
   "cell_type": "markdown",
   "metadata": {},
   "source": [
    "* Tauswoth q=7, r=3, l=5"
   ]
  },
  {
   "cell_type": "code",
   "execution_count": 39,
   "metadata": {},
   "outputs": [
    {
     "name": "stdout",
     "output_type": "stream",
     "text": [
      "Tabla de intervalos y el conteo de numeros dentro de cada intervalo\n",
      "{0.0: 9, 0.1: 9, 0.2: 11, 0.3: 10, 0.4: 13, 0.5: 9, 0.6: 8, 0.7: 12, 0.8: 8, 0.9: 10}\n",
      "Calculamos el valor de chi cuadrado\n",
      "151.43168144860587\n"
     ]
    }
   ],
   "source": [
    "def tausworth(q,h,l):\n",
    "    import pandas as pd\n",
    "\n",
    "    nBits=100*l\n",
    "\n",
    "    generador=[]\n",
    "    conversion=[]\n",
    "    conversion2=[]\n",
    "    result=0\n",
    "\n",
    "    vector_l=list(range(l))\n",
    "    vector_l.reverse()\n",
    "\n",
    "    if h<q:\n",
    "        for i in range(1,len(list(range(1,nBits+1)))+1):\n",
    "            if i<=q:\n",
    "                generador.append(1)\n",
    "            else:\n",
    "                aux1=i-(h+1)\n",
    "                aux2=i-(q+1)\n",
    "                generador.append((generador[aux1]+generador[aux2])%2)\n",
    "\n",
    "        for i in range(l,len(generador)+1,l):\n",
    "            fragmento=generador[i-l:i]\n",
    "            for j in range(len(fragmento)):\n",
    "                result+=fragmento[j]*2**vector_l[j]\n",
    "            conversion.append(result)\n",
    "            conversion2.append(result/(2**l))\n",
    "            result=0\n",
    "        \n",
    "\n",
    "        df = pd.DataFrame(generador,index=list(range(1,nBits+1)))\n",
    "\n",
    "        # print(df)\n",
    "        # print(conversion)\n",
    "        # print(conversion2)\n",
    "        return conversion2\n",
    "\n",
    "    else:\n",
    "        print(\"el valor de h tiene que ser menor a q\")\n",
    "\n",
    "chi_cuadrado_tausworth=chiCuadrado(tausworth(7, 3, 5))\n",
    "print(chi_cuadrado_tausworth)"
   ]
  },
  {
   "cell_type": "markdown",
   "metadata": {},
   "source": [
    "* Random de Python semilla (11052022)"
   ]
  },
  {
   "cell_type": "code",
   "execution_count": 40,
   "metadata": {},
   "outputs": [
    {
     "name": "stdout",
     "output_type": "stream",
     "text": [
      "Tabla de intervalos y el conteo de numeros dentro de cada intervalo\n",
      "{0.0: 15, 0.1: 11, 0.2: 14, 0.3: 10, 0.4: 2, 0.5: 17, 0.6: 8, 0.7: 9, 0.8: 7, 0.9: 7}\n",
      "Calculamos el valor de chi cuadrado\n",
      "204.13908496951885\n"
     ]
    }
   ],
   "source": [
    "def random_python(N=100):\n",
    "    numeros = []\n",
    "    random.seed(11052022)\n",
    "    [numeros.append(random.random())for i in range(N)]\n",
    "    return numeros\n",
    "\n",
    "chi_cuadrado_random_python=chiCuadrado(random_python(100))\n",
    "print(chi_cuadrado_random_python)"
   ]
  }
 ],
 "metadata": {
  "interpreter": {
   "hash": "5fde5a1c66613c5e0d12d14d43a0c63d70f9e603c0cd7171028d36a8b31bd032"
  },
  "kernelspec": {
   "display_name": "Python 3.9.7 ('base')",
   "language": "python",
   "name": "python3"
  },
  "language_info": {
   "codemirror_mode": {
    "name": "ipython",
    "version": 3
   },
   "file_extension": ".py",
   "mimetype": "text/x-python",
   "name": "python",
   "nbconvert_exporter": "python",
   "pygments_lexer": "ipython3",
   "version": "3.9.7"
  },
  "orig_nbformat": 4
 },
 "nbformat": 4,
 "nbformat_minor": 2
}

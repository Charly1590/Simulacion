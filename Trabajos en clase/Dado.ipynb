{
 "cells": [
  {
   "cell_type": "markdown",
   "metadata": {},
   "source": [
    "Simular el lanzamiento de dos dados y ver la cantidad de veces que se repite la suma de los mismos con la cantidad de:\n",
    "* 100 repeticiones\n",
    "* 1000 repeticiones\n",
    "* 10000 repeticiones"
   ]
  },
  {
   "cell_type": "code",
   "execution_count": 5,
   "metadata": {},
   "outputs": [],
   "source": [
    "import random\n",
    "import matplotlib.pyplot as plt\n",
    "\n",
    "historico={\"2\":0,\"3\":0,\"4\":0,\"5\":0,\"6\":0,\"7\":0,\"8\":0,\"9\":0,\"10\":0,\"11\":0,\"12\":0}\n",
    "\n",
    "def lanzar_dados():\n",
    "\n",
    "    dado1 = random.randint(1, 6)\n",
    "    dado2 = random.randint(1, 6)\n",
    "    suma=dado1+dado2\n",
    "    return suma\n",
    "\n",
    "def repeticiones(n):\n",
    "\n",
    "    global historico\n",
    "    for i in range(n+1):\n",
    "        resultado=lanzar_dados()\n",
    "        historico[str(resultado)]+=1\n",
    "\n",
    "def dibujar(n): \n",
    "\n",
    "    global historico\n",
    "\n",
    "    repeticiones(n)\n",
    "    \n",
    "    eje_x = list(historico.keys())\n",
    "    eje_y = list(historico.values())\n",
    "\n",
    "    plt.figure()\n",
    "    plt.barh(eje_x, eje_y, color=\"blue\")\n",
    "    plt.ylabel('Numero')\n",
    "    plt.xlabel('Repeticiones')\n",
    "    plt.show()\n",
    "    \n",
    "    print(historico)\n",
    "    historico={\"2\":0,\"3\":0,\"4\":0,\"5\":0,\"6\":0,\"7\":0,\"8\":0,\"9\":0,\"10\":0,\"11\":0,\"12\":0}"
   ]
  },
  {
   "cell_type": "markdown",
   "metadata": {},
   "source": [
    "Grafica con 100 repeticiones"
   ]
  },
  {
   "cell_type": "code",
   "execution_count": 6,
   "metadata": {},
   "outputs": [
    {
     "data": {
      "image/png": "[encoded data removed]",
      "text/plain": [
       "<Figure size 432x288 with 1 Axes>"
      ]
     },
     "metadata": {
      "needs_background": "light"
     },
     "output_type": "display_data"
    },
    {
     "name": "stdout",
     "output_type": "stream",
     "text": [
      "{'2': 1, '3': 5, '4': 13, '5': 6, '6': 25, '7': 10, '8': 16, '9': 8, '10': 11, '11': 4, '12': 2}\n"
     ]
    }
   ],
   "source": [
    "dibujar(100)"
   ]
  },
  {
   "cell_type": "markdown",
   "metadata": {},
   "source": [
    "Grafica con 1000 repeticiones"
   ]
  },
  {
   "cell_type": "code",
   "execution_count": 7,
   "metadata": {},
   "outputs": [
    {
     "data": {
      "image/png": "[encoded data removed]",
      "text/plain": [
       "<Figure size 432x288 with 1 Axes>"
      ]
     },
     "metadata": {
      "needs_background": "light"
     },
     "output_type": "display_data"
    },
    {
     "name": "stdout",
     "output_type": "stream",
     "text": [
      "{'2': 30, '3': 61, '4': 96, '5': 106, '6': 155, '7': 149, '8': 128, '9': 111, '10': 86, '11': 46, '12': 33}\n"
     ]
    }
   ],
   "source": [
    "dibujar(1000)"
   ]
  },
  {
   "cell_type": "markdown",
   "metadata": {},
   "source": [
    "Grafica con 10000 repeticiones"
   ]
  },
  {
   "cell_type": "code",
   "execution_count": 8,
   "metadata": {},
   "outputs": [
    {
     "data": {
      "image/png": "[encoded data removed]",
      "text/plain": [
       "<Figure size 432x288 with 1 Axes>"
      ]
     },
     "metadata": {
      "needs_background": "light"
     },
     "output_type": "display_data"
    },
    {
     "name": "stdout",
     "output_type": "stream",
     "text": [
      "{'2': 281, '3': 551, '4': 836, '5': 1104, '6': 1442, '7': 1663, '8': 1365, '9': 1198, '10': 771, '11': 535, '12': 255}\n"
     ]
    }
   ],
   "source": [
    "dibujar(10000)"
   ]
  }
 ],
 "metadata": {
  "language_info": {
   "name": "python"
  },
  "orig_nbformat": 4
 },
 "nbformat": 4,
 "nbformat_minor": 2
}

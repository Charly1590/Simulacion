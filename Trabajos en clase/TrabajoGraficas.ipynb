{
 "cells": [
  {
   "cell_type": "code",
   "execution_count": 178,
   "metadata": {},
   "outputs": [],
   "source": [
    "import matplotlib.pyplot as plt\n",
    "import numpy as np\n",
    "import pandas as pd\n",
    "import io\n",
    "import plotly.graph_objects as go"
   ]
  },
  {
   "cell_type": "code",
   "execution_count": 179,
   "metadata": {},
   "outputs": [
    {
     "name": "stderr",
     "output_type": "stream",
     "text": [
      "/home/charly/anaconda3/lib/python3.9/site-packages/IPython/core/interactiveshell.py:3444: FutureWarning: In a future version of pandas all arguments of read_csv except for the argument 'filepath_or_buffer' will be keyword-only\n",
      "  exec(code_obj, self.user_global_ns, self.user_ns)\n"
     ]
    },
    {
     "data": {
      "text/html": [
       "<div>\n",
       "<style scoped>\n",
       "    .dataframe tbody tr th:only-of-type {\n",
       "        vertical-align: middle;\n",
       "    }\n",
       "\n",
       "    .dataframe tbody tr th {\n",
       "        vertical-align: top;\n",
       "    }\n",
       "\n",
       "    .dataframe thead th {\n",
       "        text-align: right;\n",
       "    }\n",
       "</style>\n",
       "<table border=\"1\" class=\"dataframe\">\n",
       "  <thead>\n",
       "    <tr style=\"text-align: right;\">\n",
       "      <th></th>\n",
       "      <th>ID</th>\n",
       "      <th>Name</th>\n",
       "      <th>Age</th>\n",
       "      <th>Photo</th>\n",
       "      <th>Nationality</th>\n",
       "      <th>Flag</th>\n",
       "      <th>Overall</th>\n",
       "      <th>Potential</th>\n",
       "      <th>Club</th>\n",
       "      <th>Club Logo</th>\n",
       "      <th>...</th>\n",
       "      <th>Composure</th>\n",
       "      <th>Marking</th>\n",
       "      <th>StandingTackle</th>\n",
       "      <th>SlidingTackle</th>\n",
       "      <th>GKDiving</th>\n",
       "      <th>GKHandling</th>\n",
       "      <th>GKKicking</th>\n",
       "      <th>GKPositioning</th>\n",
       "      <th>GKReflexes</th>\n",
       "      <th>Release Clause</th>\n",
       "    </tr>\n",
       "  </thead>\n",
       "  <tbody>\n",
       "    <tr>\n",
       "      <th>0</th>\n",
       "      <td>158023</td>\n",
       "      <td>L. Messi</td>\n",
       "      <td>31</td>\n",
       "      <td>https://cdn.sofifa.org/players/4/19/158023.png</td>\n",
       "      <td>Argentina</td>\n",
       "      <td>https://cdn.sofifa.org/flags/52.png</td>\n",
       "      <td>94</td>\n",
       "      <td>94</td>\n",
       "      <td>FC Barcelona</td>\n",
       "      <td>https://cdn.sofifa.org/teams/2/light/241.png</td>\n",
       "      <td>...</td>\n",
       "      <td>96.0</td>\n",
       "      <td>33.0</td>\n",
       "      <td>28.0</td>\n",
       "      <td>26.0</td>\n",
       "      <td>6.0</td>\n",
       "      <td>11.0</td>\n",
       "      <td>15.0</td>\n",
       "      <td>14.0</td>\n",
       "      <td>8.0</td>\n",
       "      <td>€226.5M</td>\n",
       "    </tr>\n",
       "    <tr>\n",
       "      <th>1</th>\n",
       "      <td>20801</td>\n",
       "      <td>Cristiano Ronaldo</td>\n",
       "      <td>33</td>\n",
       "      <td>https://cdn.sofifa.org/players/4/19/20801.png</td>\n",
       "      <td>Portugal</td>\n",
       "      <td>https://cdn.sofifa.org/flags/38.png</td>\n",
       "      <td>94</td>\n",
       "      <td>94</td>\n",
       "      <td>Juventus</td>\n",
       "      <td>https://cdn.sofifa.org/teams/2/light/45.png</td>\n",
       "      <td>...</td>\n",
       "      <td>95.0</td>\n",
       "      <td>28.0</td>\n",
       "      <td>31.0</td>\n",
       "      <td>23.0</td>\n",
       "      <td>7.0</td>\n",
       "      <td>11.0</td>\n",
       "      <td>15.0</td>\n",
       "      <td>14.0</td>\n",
       "      <td>11.0</td>\n",
       "      <td>€127.1M</td>\n",
       "    </tr>\n",
       "    <tr>\n",
       "      <th>2</th>\n",
       "      <td>190871</td>\n",
       "      <td>Neymar Jr</td>\n",
       "      <td>26</td>\n",
       "      <td>https://cdn.sofifa.org/players/4/19/190871.png</td>\n",
       "      <td>Brazil</td>\n",
       "      <td>https://cdn.sofifa.org/flags/54.png</td>\n",
       "      <td>92</td>\n",
       "      <td>93</td>\n",
       "      <td>Paris Saint-Germain</td>\n",
       "      <td>https://cdn.sofifa.org/teams/2/light/73.png</td>\n",
       "      <td>...</td>\n",
       "      <td>94.0</td>\n",
       "      <td>27.0</td>\n",
       "      <td>24.0</td>\n",
       "      <td>33.0</td>\n",
       "      <td>9.0</td>\n",
       "      <td>9.0</td>\n",
       "      <td>15.0</td>\n",
       "      <td>15.0</td>\n",
       "      <td>11.0</td>\n",
       "      <td>€228.1M</td>\n",
       "    </tr>\n",
       "    <tr>\n",
       "      <th>3</th>\n",
       "      <td>193080</td>\n",
       "      <td>De Gea</td>\n",
       "      <td>27</td>\n",
       "      <td>https://cdn.sofifa.org/players/4/19/193080.png</td>\n",
       "      <td>Spain</td>\n",
       "      <td>https://cdn.sofifa.org/flags/45.png</td>\n",
       "      <td>91</td>\n",
       "      <td>93</td>\n",
       "      <td>Manchester United</td>\n",
       "      <td>https://cdn.sofifa.org/teams/2/light/11.png</td>\n",
       "      <td>...</td>\n",
       "      <td>68.0</td>\n",
       "      <td>15.0</td>\n",
       "      <td>21.0</td>\n",
       "      <td>13.0</td>\n",
       "      <td>90.0</td>\n",
       "      <td>85.0</td>\n",
       "      <td>87.0</td>\n",
       "      <td>88.0</td>\n",
       "      <td>94.0</td>\n",
       "      <td>€138.6M</td>\n",
       "    </tr>\n",
       "    <tr>\n",
       "      <th>4</th>\n",
       "      <td>192985</td>\n",
       "      <td>K. De Bruyne</td>\n",
       "      <td>27</td>\n",
       "      <td>https://cdn.sofifa.org/players/4/19/192985.png</td>\n",
       "      <td>Belgium</td>\n",
       "      <td>https://cdn.sofifa.org/flags/7.png</td>\n",
       "      <td>91</td>\n",
       "      <td>92</td>\n",
       "      <td>Manchester City</td>\n",
       "      <td>https://cdn.sofifa.org/teams/2/light/10.png</td>\n",
       "      <td>...</td>\n",
       "      <td>88.0</td>\n",
       "      <td>68.0</td>\n",
       "      <td>58.0</td>\n",
       "      <td>51.0</td>\n",
       "      <td>15.0</td>\n",
       "      <td>13.0</td>\n",
       "      <td>5.0</td>\n",
       "      <td>10.0</td>\n",
       "      <td>13.0</td>\n",
       "      <td>€196.4M</td>\n",
       "    </tr>\n",
       "  </tbody>\n",
       "</table>\n",
       "<p>5 rows × 88 columns</p>\n",
       "</div>"
      ],
      "text/plain": [
       "       ID               Name  Age  \\\n",
       "0  158023           L. Messi   31   \n",
       "1   20801  Cristiano Ronaldo   33   \n",
       "2  190871          Neymar Jr   26   \n",
       "3  193080             De Gea   27   \n",
       "4  192985       K. De Bruyne   27   \n",
       "\n",
       "                                            Photo Nationality  \\\n",
       "0  https://cdn.sofifa.org/players/4/19/158023.png   Argentina   \n",
       "1   https://cdn.sofifa.org/players/4/19/20801.png    Portugal   \n",
       "2  https://cdn.sofifa.org/players/4/19/190871.png      Brazil   \n",
       "3  https://cdn.sofifa.org/players/4/19/193080.png       Spain   \n",
       "4  https://cdn.sofifa.org/players/4/19/192985.png     Belgium   \n",
       "\n",
       "                                  Flag  Overall  Potential  \\\n",
       "0  https://cdn.sofifa.org/flags/52.png       94         94   \n",
       "1  https://cdn.sofifa.org/flags/38.png       94         94   \n",
       "2  https://cdn.sofifa.org/flags/54.png       92         93   \n",
       "3  https://cdn.sofifa.org/flags/45.png       91         93   \n",
       "4   https://cdn.sofifa.org/flags/7.png       91         92   \n",
       "\n",
       "                  Club                                     Club Logo  ...  \\\n",
       "0         FC Barcelona  https://cdn.sofifa.org/teams/2/light/241.png  ...   \n",
       "1             Juventus   https://cdn.sofifa.org/teams/2/light/45.png  ...   \n",
       "2  Paris Saint-Germain   https://cdn.sofifa.org/teams/2/light/73.png  ...   \n",
       "3    Manchester United   https://cdn.sofifa.org/teams/2/light/11.png  ...   \n",
       "4      Manchester City   https://cdn.sofifa.org/teams/2/light/10.png  ...   \n",
       "\n",
       "  Composure Marking  StandingTackle SlidingTackle  GKDiving  GKHandling  \\\n",
       "0      96.0    33.0            28.0          26.0       6.0        11.0   \n",
       "1      95.0    28.0            31.0          23.0       7.0        11.0   \n",
       "2      94.0    27.0            24.0          33.0       9.0         9.0   \n",
       "3      68.0    15.0            21.0          13.0      90.0        85.0   \n",
       "4      88.0    68.0            58.0          51.0      15.0        13.0   \n",
       "\n",
       "   GKKicking GKPositioning GKReflexes Release Clause  \n",
       "0       15.0          14.0        8.0        €226.5M  \n",
       "1       15.0          14.0       11.0        €127.1M  \n",
       "2       15.0          15.0       11.0        €228.1M  \n",
       "3       87.0          88.0       94.0        €138.6M  \n",
       "4        5.0          10.0       13.0        €196.4M  \n",
       "\n",
       "[5 rows x 88 columns]"
      ]
     },
     "execution_count": 179,
     "metadata": {},
     "output_type": "execute_result"
    }
   ],
   "source": [
    "datosFifa = pd.read_csv('Recursos/fifa_datos.csv',',')\n",
    "datosFifa.head()"
   ]
  },
  {
   "cell_type": "markdown",
   "metadata": {},
   "source": [
    "1 Con los datos de Fifa, organizar a los jugadores de acuerdo al peso en las siguientes escalas y generar un cuadro tipo PIE\n",
    "\n",
    "* Debajo 125 Lbs.\n",
    "* 125-150\n",
    "* 150-175\n",
    "* 175 o superior"
   ]
  },
  {
   "cell_type": "code",
   "execution_count": 180,
   "metadata": {},
   "outputs": [],
   "source": [
    "datosFifa['Weight'] = datosFifa['Weight'].str.replace('lbs', '')\n",
    "datosFifa['Weight'] = pd.to_numeric(datosFifa['Weight'] )"
   ]
  },
  {
   "cell_type": "code",
   "execution_count": 181,
   "metadata": {},
   "outputs": [],
   "source": [
    "#lista1: Debajo de 125 lbs\n",
    "#lista2: 125 lbs a 150 lbs\n",
    "#lista3: 150 lb a 175 lbs\n",
    "#lista4: 175 lbs o superior\n",
    "\n",
    "lista1=datosFifa.loc[datosFifa['Weight'] < 125]\n",
    "lista2=datosFifa.loc[(datosFifa['Weight'] >= 125) & (datosFifa['Weight'] < 150)]\n",
    "lista3=datosFifa.loc[(datosFifa['Weight'] >= 150) & (datosFifa['Weight'] < 175)]\n",
    "lista4=datosFifa.loc[datosFifa['Weight'] >= 175]"
   ]
  },
  {
   "cell_type": "code",
   "execution_count": 182,
   "metadata": {},
   "outputs": [
    {
     "data": {
      "image/png": "[encoded data removed]",
      "text/plain": [
       "<Figure size 432x288 with 1 Axes>"
      ]
     },
     "metadata": {},
     "output_type": "display_data"
    }
   ],
   "source": [
    "plt.figure()\n",
    "\n",
    "etiquetas = ['peso<125', 'peso>=125 y peso<150', 'peso>=150 y peso<175', 'peso>=175']\n",
    "plt.pie([len(lista1), len(lista2), len(lista3), len(lista4)], labels=etiquetas, autopct='%.2f %%')\n",
    "plt.title('Pesos de jugadores')\n",
    "plt.show()"
   ]
  },
  {
   "cell_type": "markdown",
   "metadata": {},
   "source": [
    "2 Generar un grafico de barras (histograma) de acuerdo a su habilidad (Overall)  en base a los siguientes segmentos contando el número de jugadores\n",
    "\n",
    "* 40\n",
    "* 50\n",
    "* 60\n",
    "* 70\n",
    "* 80\n",
    "* 90"
   ]
  },
  {
   "cell_type": "code",
   "execution_count": 185,
   "metadata": {},
   "outputs": [],
   "source": [
    "#lista40: De 40 a 49\n",
    "#lista50: De 50 a 59\n",
    "#lista60: De 60 a 69\n",
    "#lista70: De 70 a 79\n",
    "#lista80: De 80 a 89\n",
    "#lista90: De 90 a 99\n",
    "\n",
    "lista40=datosFifa.loc[(datosFifa['Overall'] >= 40) & (datosFifa['Overall'] < 50)]\n",
    "lista50=datosFifa.loc[(datosFifa['Overall'] >= 50) & (datosFifa['Overall'] < 60)]\n",
    "lista60=datosFifa.loc[(datosFifa['Overall'] >= 60) & (datosFifa['Overall'] < 70)]\n",
    "lista70=datosFifa.loc[(datosFifa['Overall'] >= 70) & (datosFifa['Overall'] < 80)]\n",
    "lista80=datosFifa.loc[(datosFifa['Overall'] >= 80) & (datosFifa['Overall'] < 90)]\n",
    "lista90=datosFifa.loc[(datosFifa['Overall'] >= 90) & (datosFifa['Overall'] < 100)]"
   ]
  },
  {
   "cell_type": "code",
   "execution_count": 187,
   "metadata": {},
   "outputs": [
    {
     "data": {
      "image/png": "[encoded data removed]",
      "text/plain": [
       "<Figure size 432x288 with 1 Axes>"
      ]
     },
     "metadata": {
      "needs_background": "light"
     },
     "output_type": "display_data"
    }
   ],
   "source": [
    "eje_x = [40,50,60,70,80,90]\n",
    "eje_y = [len(lista40), len(lista50), len(lista60), len(lista70), len(lista80), len(lista90)]\n",
    "\n",
    "plt.figure()\n",
    "plt.bar(eje_x, eje_y, color=\"blue\")\n",
    "plt.ylabel('Cantidaad de jugadores')\n",
    "plt.xlabel('Overall')\n",
    "plt.show()\n"
   ]
  },
  {
   "cell_type": "markdown",
   "metadata": {},
   "source": [
    "3 Investigar alguna herramienta o software que permita generar reportes con Python utilizando CodeLabs."
   ]
  },
  {
   "cell_type": "markdown",
   "metadata": {},
   "source": [
    "# REPORTLAB\n",
    "\n",
    "Es una herramienta la cual nos permite generar archivos PDF el cual se basa en comandos graficos el cual tiene un lenguaje de plantillas de mas alto nivel el cual es similar al ded HTML y todo esto se convierte en un archivo PDF.\n",
    "\n",
    "Para comenzar lo que se realiza es importar el paquete pdfgen de reportlab el cual nos ayudara a crear el PDF ademas el elemento que proporcciona los elementos de dibujo es el canvas el cual nos asyuda a medir la hoja en blanco mediante puntos con las coordenadas (x, y) las cuales tienen por defecto las coordenadas (0,0) y estos se ubican el la esquina superior izquierda.\n",
    "\n",
    "Ademas de esto con canvas podemos especificar la dimencion de la hoja con la que vamos a trabajar y podemos utilizar los tamaños estandar que se suelen usar, por ejemplo una hoja A4 está constituida por 595.2 puntos de ancho (width) y 841.8 puntos de alto (height)."
   ]
  },
  {
   "cell_type": "code",
   "execution_count": 189,
   "metadata": {},
   "outputs": [],
   "source": [
    "    from reportlab.lib.pagesizes import A4\n",
    "    from reportlab.pdfgen import canvas\n",
    "    w, h = A4\n",
    "    c = canvas.Canvas(\"hola-mundo.pdf\", pagesize=A4)\n",
    "    c.drawString(50, h - 50, \"¡Hola, mundo!\")\n",
    "    c.showPage()\n",
    "    c.save()"
   ]
  },
  {
   "cell_type": "markdown",
   "metadata": {},
   "source": [
    "#### Lineas y figuras geometricas\n",
    "\n",
    "Tambien nos permite crear lineas y figuras geometrias como  líneas, rectángulos, círculos y otras figuras de una forma sencilla. Por ejemplo, para dibujar una línea invocamos el método line() indicando la posición de los dos puntos del segmento: x1, y1, x2, y2."
   ]
  },
  {
   "cell_type": "code",
   "execution_count": 190,
   "metadata": {},
   "outputs": [],
   "source": [
    "    from reportlab.lib.pagesizes import A4\n",
    "    from reportlab.pdfgen import canvas\n",
    "    w, h = A4\n",
    "    c = canvas.Canvas(\"figuras.pdf\", pagesize=A4)\n",
    "    c.drawString(30, h - 50, \"Línea\")\n",
    "    x = 120\n",
    "    y = h - 45\n",
    "    c.line(x, y, x + 100, y)\n",
    "    c.drawString(30, h - 100, \"Rectángulo\")\n",
    "    c.rect(x, h - 120, 100, 50)\n",
    "    c.drawString(30, h - 170, \"Círculo\")\n",
    "    c.circle(170, h - 165, 20)\n",
    "    c.drawString(30, h - 240, \"Elipse\")\n",
    "    c.ellipse(x, y - 170, x + 100, y - 220)\n",
    "    c.showPage()\n",
    "    c.save()"
   ]
  },
  {
   "cell_type": "markdown",
   "metadata": {},
   "source": [
    "# Textos\n",
    "\n",
    "Para la escritura dentro del documento PDF que vallamos a generar podemos definir el tipo y tamaño de letra pero primero lo que sebe de hacer es saber donde pocicionaremos el texto, seguido de esto se pondra meddiante una simple linea de codigo la agregacion del texto en el PDF."
   ]
  },
  {
   "cell_type": "code",
   "execution_count": 191,
   "metadata": {},
   "outputs": [],
   "source": [
    "text = c.beginText(50, h - 50)\n",
    "text.setFont(\"Times-Roman\", 12)\n",
    "text.textLine(\"¡Hola, mundo!\")\n",
    "text.textLine(\"¡Desde ReportLab y Python!\")\n",
    "c.drawText(text)"
   ]
  },
  {
   "cell_type": "code",
   "execution_count": 188,
   "metadata": {},
   "outputs": [],
   "source": [
    "import itertools\n",
    "from random import randint\n",
    "from statistics import mean\n",
    "from reportlab.lib.pagesizes import A4\n",
    "from reportlab.pdfgen import canvas\n",
    "def grouper(iterable, n):\n",
    "    args = [iter(iterable)] * n\n",
    "    return itertools.zip_longest(*args)\n",
    "def export_to_pdf(data):\n",
    "    c = canvas.Canvas(\"grilla-alumnos.pdf\", pagesize=A4)\n",
    "    w, h = A4\n",
    "    max_rows_per_page = 45\n",
    "    # Margin.\n",
    "    x_offset = 50\n",
    "    y_offset = 50\n",
    "    # Space between rows.\n",
    "    padding = 15\n",
    "    \n",
    "    xlist = [x + x_offset for x in [0, 200, 250, 300, 350, 400, 480]]\n",
    "    ylist = [h - y_offset - i*padding for i in range(max_rows_per_page + 1)]\n",
    "    \n",
    "    for rows in grouper(data, max_rows_per_page):\n",
    "        rows = tuple(filter(bool, rows))\n",
    "        c.grid(xlist, ylist[:len(rows) + 1])\n",
    "        for y, row in zip(ylist[:-1], rows):\n",
    "            for x, cell in zip(xlist, row):\n",
    "                c.drawString(x + 2, y - padding + 3, str(cell))\n",
    "        c.showPage()\n",
    "    \n",
    "    c.save()\n",
    "data = [(\"NOMBRE\", \"NOTA 1\", \"NOTA 2\", \"NOTA 3\", \"PROM.\", \"ESTADO\")]\n",
    "for i in range(1, 101):\n",
    "    exams = [randint(0, 10) for _ in range(3)]\n",
    "    avg = round(mean(exams), 2)\n",
    "    state = \"Aprobado\" if avg >= 4 else \"Desaprobado\"\n",
    "    data.append((f\"Alumno {i}\", *exams, avg, state))\n",
    "export_to_pdf(data)"
   ]
  }
 ],
 "metadata": {
  "interpreter": {
   "hash": "5fde5a1c66613c5e0d12d14d43a0c63d70f9e603c0cd7171028d36a8b31bd032"
  },
  "kernelspec": {
   "display_name": "Python 3.9.7 ('base')",
   "language": "python",
   "name": "python3"
  },
  "language_info": {
   "name": "python",
   "version": "3.9.7"
  },
  "orig_nbformat": 4
 },
 "nbformat": 4,
 "nbformat_minor": 2
}

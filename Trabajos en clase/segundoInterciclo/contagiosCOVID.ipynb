{
 "cells": [
  {
   "cell_type": "markdown",
   "metadata": {},
   "source": [
    "## Practica.\n",
    "\n",
    "Realizar la planificación y modelado de una simulacion basado en eventos discretos para identificar los contagios dentro de un establecimiento de estudiantes post COVID-19 para el reingreso de clases. Los pasos para el regreso progresivo a clases se describe a continuación:\n",
    "\n",
    "            ▪ Calcular e Identificar el aforo máximo permitido en la institución educativa.\n",
    "            ▪ Identificar el número de estudiantes y el porcentaje de contagio dentro del contexto poblacional el mismo que se aplicara dentro de la simulación por el contagio.\n",
    "            ▪ Generar la simulación desde la puerta de ingreso y la salida del plantel por día.\n",
    "            ▪ Los estudiantes hacen fila para ingresar al establecimiento y no pueden superar el aforo permitido.\n",
    "            ▪ Realizar con un tiempo de un 1 mes.\n",
    "         \n",
    "Generar graficas que indiquen los estudiantes que presentaron complicaciones y el total de estudiantes por establecimiento en cada día o semana.\n",
    "\n",
    "**Nota**: No tomar datos de transporte, numero de aulas, personal docente, etc. Solo se el ingreso, salida y el contagio dentro del establecimiento."
   ]
  },
  {
   "cell_type": "code",
   "execution_count": 2,
   "metadata": {},
   "outputs": [],
   "source": [
    "import simpy\n",
    "import random\n",
    "import matplotlib.pyplot as plt\n",
    "from scipy import stats \n",
    "import numpy as np"
   ]
  },
  {
   "cell_type": "code",
   "execution_count": 2,
   "metadata": {},
   "outputs": [],
   "source": [
    "PROBABILIDAD_CONTAGIO=0.05\n",
    "AFORO=300\n",
    "TIEMPO_SIMULACION = 30*6*60"
   ]
  },
  {
   "cell_type": "code",
   "execution_count": 3,
   "metadata": {},
   "outputs": [
    {
     "name": "stdout",
     "output_type": "stream",
     "text": [
      "Ingreso a clases UPS\n",
      "[17, 97, 85, 93, 95, 103, 105, 93, 94, 94, 90, 90, 95, 90, 83, 89, 90, 85, 87, 94, 93, 87, 101, 86, 103, 94, 80, 100, 102]\n",
      "29\n",
      "{311: 4, 280: 4, 272: 3, 99: 2, 95: 2, 297: 3, 64: 2, 229: 5, 317: 4, 237: 1, 245: 3, 239: 3, 276: 2, 261: 1, 121: 2, 254: 3, 133: 2, 284: 3, 359: 3, 344: 1, 145: 1, 77: 3, 274: 1, 278: 1, 209: 4, 124: 1, 212: 1, 75: 2, 303: 1, 160: 2, 353: 2, 329: 2, 248: 2, 263: 2, 277: 3, 182: 1, 119: 1, 348: 2, 218: 4, 319: 1, 199: 1, 185: 2, 169: 1, 67: 1, 335: 4, 156: 2, 81: 3, 324: 2, 208: 1, 137: 2, 188: 1, 136: 4, 128: 2, 165: 3, 117: 1, 61: 2, 122: 2, 351: 2, 195: 1, 85: 3, 314: 4, 220: 1, 264: 1, 307: 2, 253: 2, 231: 1, 357: 1, 321: 2, 236: 2, 249: 1, 74: 1, 338: 1, 358: 1, 219: 2, 112: 2, 98: 2, 91: 4, 84: 1, 286: 3, 325: 2, 232: 1, 110: 1, 340: 4, 349: 2, 94: 3, 305: 1, 251: 1, 242: 1, 252: 3, 139: 3, 72: 2, 153: 3, 171: 1, 115: 2, 200: 1, 138: 1, 214: 2, 180: 1, 211: 2, 116: 2, 127: 2, 339: 1, 258: 1, 257: 3, 191: 2, 354: 2, 281: 1, 320: 3, 316: 1, 294: 1, 174: 3, 150: 2, 318: 1, 87: 3, 334: 3, 177: 3, 154: 1, 202: 2, 323: 1, 255: 2, 328: 4, 336: 1, 204: 1, 111: 1, 296: 1, 221: 2, 167: 2, 172: 2, 109: 2, 240: 1, 260: 2, 222: 3, 295: 1, 123: 2, 126: 1, 97: 1, 293: 2, 107: 2, 326: 2, 162: 2, 104: 2, 343: 1, 159: 2, 193: 3, 360: 1, 285: 2, 183: 1, 207: 1, 101: 2, 302: 1, 76: 1, 89: 2, 62: 1, 194: 1, 164: 2, 269: 2, 256: 2, 342: 1, 241: 2, 140: 2, 65: 3, 203: 1, 71: 2, 300: 2, 230: 1, 142: 2, 118: 2, 347: 1, 205: 2, 213: 2, 166: 2, 175: 1, 355: 1, 262: 2, 283: 3, 331: 1, 186: 1, 66: 2, 267: 2, 151: 1, 141: 1, 322: 1, 345: 1, 301: 2, 327: 2, 78: 1, 216: 1, 308: 1, 147: 1, 189: 1, 176: 1, 238: 1, 181: 1, 88: 1, 163: 1, 289: 1, 178: 1, 70: 1, 356: 1, 149: 1, 170: 1, 201: 1, 144: 1, 313: 1, 266: 1, 250: 1, 330: 1, 275: 1, 69: 1, 187: 1, 243: 1, 332: 1, 79: 2, 86: 1, 103: 1, 108: 1}\n"
     ]
    },
    {
     "data": {
      "image/png": "[encoded data removed]",
      "text/plain": [
       "<Figure size 432x288 with 1 Axes>"
      ]
     },
     "metadata": {
      "needs_background": "light"
     },
     "output_type": "display_data"
    }
   ],
   "source": [
    "\n",
    "contador=0\n",
    "contagios=[]\n",
    "lasHoras={}\n",
    "\n",
    "class Universidad(object):\n",
    "    \n",
    "    def __init__(self, environment, PROBABILIDAD_CONTAGIO, AFORO, TIEMPO_SIMULACION):\n",
    "        self.env=environment\n",
    "        self.aforo = simpy.Resource(environment, AFORO)\n",
    "        self.probabilidadContagio = PROBABILIDAD_CONTAGIO \n",
    "        \n",
    "    def estanciaEnUniversidad(self, vehiculo):\n",
    "        tiempo=random.randint(60,360)\n",
    "        yield self.env.timeout(tiempo)\n",
    "        return tiempo\n",
    "\n",
    "def llegada_estudiantes(env, nombre, universidad):\n",
    "    global contador\n",
    "    # print('Llega %s: a la hora %.2f.' % (nombre, env.now))\n",
    "\n",
    "    with universidad.aforo.request() as aforo:\n",
    "\n",
    "        yield aforo\n",
    "\n",
    "        # print('Entra %s a la hora %.2f.' % (nombre, env.now))\n",
    "        tEst=yield env.process(universidad.estanciaEnUniversidad(nombre))\n",
    "        # print(tEst)\n",
    "        if tEst in lasHoras.keys():\n",
    "            lasHoras[tEst]+=1\n",
    "        else:\n",
    "            lasHoras[tEst]=1\n",
    "\n",
    "        # print('El %s salio a las %.2f.' % (nombre, env.now))\n",
    "        # print(lasHoras)\n",
    "\n",
    "def poner_contagios_porDia(lasHoras, PROBABILIDAD_CONTAGIO):\n",
    "    contadorContagios=0\n",
    "    for k in list(lasHoras.keys()):\n",
    "        bernoulli = stats.bernoulli(PROBABILIDAD_CONTAGIO)\n",
    "        contagios=bernoulli.rvs(lasHoras[k])\n",
    "        # print(k)\n",
    "        if k>=60 and k<120:\n",
    "            bernoulli = stats.bernoulli(PROBABILIDAD_CONTAGIO)\n",
    "            contagios=bernoulli.rvs(lasHoras[k])\n",
    "        elif k>=120 and k<180:\n",
    "            a=PROBABILIDAD_CONTAGIO+0.1\n",
    "            bernoulli = stats.bernoulli(a)\n",
    "            contagios=bernoulli.rvs(lasHoras[k])\n",
    "        elif k>=180 and k<240:\n",
    "            a=PROBABILIDAD_CONTAGIO+0.2\n",
    "            bernoulli = stats.bernoulli(a)\n",
    "            contagios=bernoulli.rvs(lasHoras[k])\n",
    "        elif k>=240 and k<300:\n",
    "            a=PROBABILIDAD_CONTAGIO+0.3\n",
    "            bernoulli = stats.bernoulli(a)\n",
    "            contagios=bernoulli.rvs(lasHoras[k])\n",
    "        elif k>=300 and k<360:\n",
    "            a=PROBABILIDAD_CONTAGIO+0.4\n",
    "            bernoulli = stats.bernoulli(a)\n",
    "            contagios=bernoulli.rvs(lasHoras[k])\n",
    "        elif k>=360 and k<420:\n",
    "            # print('hola')\n",
    "            a=PROBABILIDAD_CONTAGIO+0.5\n",
    "            bernoulli = stats.bernoulli(a)\n",
    "            contagios=bernoulli.rvs(lasHoras[k])\n",
    "        for c in contagios:\n",
    "            if c == 1:\n",
    "                contadorContagios+=1\n",
    "    return contadorContagios\n",
    "\n",
    "def ejecutar_simulacion(env,PROBABILIDAD_CONTAGIO, AFORO, TIEMPO_SIMULACION):\n",
    "    universidad=Universidad(env,PROBABILIDAD_CONTAGIO, AFORO, TIEMPO_SIMULACION)\n",
    "    global contador\n",
    "    global lasHoras\n",
    "    \n",
    "    i=0\n",
    "    while True:\n",
    "        i+=1\n",
    "        yield env.timeout(1)\n",
    "        env.process(llegada_estudiantes(env, 'estudiante '+str(i), universidad))\n",
    "        contagiosDia=poner_contagios_porDia(lasHoras, PROBABILIDAD_CONTAGIO)\n",
    "        if i==360:\n",
    "            contagios.append(contagiosDia)\n",
    "            lasHoras={}\n",
    "            i=0\n",
    "        # contagios.append(contador)\n",
    "        \n",
    "\n",
    "print('Ingreso a clases UPS')\n",
    "# Inicializamos la semilla aleatoria\n",
    "random.seed(77)\n",
    "\n",
    "# Creamos el entorno de simulacion\n",
    "env=simpy.Environment()\n",
    "env.process(ejecutar_simulacion(env, PROBABILIDAD_CONTAGIO, AFORO, TIEMPO_SIMULACION))\n",
    "\n",
    "# Ejecutamos el proceso durante el tiempo de simulacion\n",
    "env.run(until = TIEMPO_SIMULACION)\n",
    "\n",
    "print(contagios)\n",
    "print(len(contagios))\n",
    "print(lasHoras)\n",
    "# Generamos una grafica en base al diccionario del tiempo\n",
    "etiqueta = list(list(range(len(contagios))))\n",
    "valores = list(contagios)\n",
    "plt.bar(etiqueta, valores, align=\"center\")\n",
    "plt.title(\"Tasa de contagios por dia\")\n",
    "plt.xlabel(\"Dia\")\n",
    "plt.ylabel(\"Nro. Contagios\")\n",
    "plt.show()\n"
   ]
  }
 ],
 "metadata": {
  "kernelspec": {
   "display_name": "Python 3.9.7 ('base')",
   "language": "python",
   "name": "python3"
  },
  "language_info": {
   "codemirror_mode": {
    "name": "ipython",
    "version": 3
   },
   "file_extension": ".py",
   "mimetype": "text/x-python",
   "name": "python",
   "nbconvert_exporter": "python",
   "pygments_lexer": "ipython3",
   "version": "3.9.7"
  },
  "orig_nbformat": 4,
  "vscode": {
   "interpreter": {
    "hash": "5fde5a1c66613c5e0d12d14d43a0c63d70f9e603c0cd7171028d36a8b31bd032"
   }
  }
 },
 "nbformat": 4,
 "nbformat_minor": 2
}
